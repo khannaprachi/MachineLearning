{
 "cells": [
  {
   "cell_type": "code",
   "execution_count": 701,
   "id": "0796bf93",
   "metadata": {},
   "outputs": [
    {
     "name": "stdout",
     "output_type": "stream",
     "text": [
      "No. of columns containing null values\n",
      "67\n",
      "No. of columns not containing null values\n",
      "55\n",
      "Total no. of columns in the dataframe\n",
      "122\n"
     ]
    }
   ],
   "source": [
    "import numpy as np\n",
    "import matplotlib.pyplot as plt\n",
    "import pandas as pd\n",
    "import seaborn as sb\n",
    "from sklearn import decomposition\n",
    "from sklearn import datasets\n",
    "from sklearn.preprocessing import scale\n",
    "from sklearn.preprocessing import StandardScaler, normalize\n",
    "from sklearn.decomposition import PCA\n",
    "from sklearn.preprocessing import StandardScaler, MinMaxScaler, MaxAbsScaler, QuantileTransformer\n",
    "from sklearn.feature_selection import SelectKBest, f_classif\n",
    "\n",
    "\n",
    "df = pd.read_csv(\"C:\\\\Users\\\\khann\\\\Desktop\\\\Python Assignments\\\\home-credit-default-risk\\\\application_train.csv\")\n",
    "#appdata.isnull().sum()\n",
    "#dataset=appdata.isnull().sum()\n",
    "\n",
    "nan_cols = [i for i in df.columns if df[i].isnull().any()]\n",
    "print(\"No. of columns containing null values\")\n",
    "print(len(df.columns[df.isna().any()]))\n",
    "\n",
    "print(\"No. of columns not containing null values\")\n",
    "print(len(df.columns[df.notna().all()]))\n",
    "\n",
    "print(\"Total no. of columns in the dataframe\")\n",
    "print(len(df.columns))"
   ]
  },
  {
   "cell_type": "code",
   "execution_count": 702,
   "id": "616a9f3a",
   "metadata": {},
   "outputs": [
    {
     "name": "stdout",
     "output_type": "stream",
     "text": [
      "No. of columns containing null values\n",
      "4\n",
      "   AMT_INCOME_TOTAL  AMT_CREDIT  AMT_ANNUITY  AMT_GOODS_PRICE  DAYS_BIRTH  \\\n",
      "0          202500.0    406597.5      24700.5         351000.0       -9461   \n",
      "1          270000.0   1293502.5      35698.5        1129500.0      -16765   \n",
      "2           67500.0    135000.0       6750.0         135000.0      -19046   \n",
      "3          135000.0    312682.5      29686.5         297000.0      -19005   \n",
      "4          121500.0    513000.0      21865.5         513000.0      -19932   \n",
      "\n",
      "   DAYS_EMPLOYED  DAYS_REGISTRATION  DAYS_ID_PUBLISH  DAYS_LAST_PHONE_CHANGE  \\\n",
      "0           -637            -3648.0            -2120                 -1134.0   \n",
      "1          -1188            -1186.0             -291                  -828.0   \n",
      "2           -225            -4260.0            -2531                  -815.0   \n",
      "3          -3039            -9833.0            -2437                  -617.0   \n",
      "4          -3038            -4311.0            -3458                 -1106.0   \n",
      "\n",
      "   CNT_FAM_MEMBERS  \n",
      "0              1.0  \n",
      "1              2.0  \n",
      "2              1.0  \n",
      "3              2.0  \n",
      "4              1.0  \n"
     ]
    }
   ],
   "source": [
    "# Using top 10 variables from previous assignment\n",
    "#AMT_GOODS_PRICE           \n",
    "#AMT_CREDIT                \n",
    "#DAYS_REGISTRATION             \n",
    "#AMT_INCOME_TOTAL                \n",
    "#FLAG_EMP_PHONE              \n",
    "#DAYS_EMPLOYED              \n",
    "#DAYS_ID_PUBLISH                \n",
    "#AMT_ANNUITY                 \n",
    "#DAYS_BIRTH                  \n",
    "#DAYS_LAST_PHONE_CHANGE      \n",
    "\n",
    "#XData = df.iloc[:,1:]\n",
    "XData = df.iloc[:,[7,8, 9, 10, 17, 18, 19, 20, 95, 29]]\n",
    "nan_cols = [i for i in XData.columns if XData[i].isnull().any()]\n",
    "print(\"No. of columns containing null values\")\n",
    "print(len(XData.columns[XData.isna().any()]))\n",
    "Y = df.iloc[:,1].values.astype(int)\n",
    "print(pd.get_dummies(XData).head())\n",
    "X=pd.get_dummies(XData).values.astype(int)"
   ]
  },
  {
   "cell_type": "code",
   "execution_count": 703,
   "id": "2ca32b10",
   "metadata": {},
   "outputs": [
    {
     "name": "stdout",
     "output_type": "stream",
     "text": [
      "Accuracy of decision tree: 0.8438494663920614\n"
     ]
    }
   ],
   "source": [
    "from sklearn.tree import DecisionTreeRegressor\n",
    "from sklearn.tree import DecisionTreeClassifier \n",
    "from sklearn.model_selection import train_test_split\n",
    "from sklearn.ensemble import RandomForestClassifier\n",
    "from sklearn import metrics\n",
    "from sklearn.metrics import plot_confusion_matrix\n",
    "\n",
    "#X_train, X_test, y_train, y_test=train_test_split(X, Y, test_size=10000, train_size=100000, random_state=0, shuffle=True, stratify=None)\n",
    "X_train, X_test, y_train, y_test = train_test_split(X, Y, test_size=0.33, random_state=0)\n",
    "#clr=RandomForestClassifier(n_estimators=100)\n",
    "clf = DecisionTreeClassifier(random_state = 0)\n",
    "y_train=y_train.reshape(-1,1)\n",
    "clf.fit(X_train,y_train)\n",
    "y_pred=clf.predict(X_test)\n",
    "print(\"Accuracy of decision tree:\",metrics.accuracy_score(y_test, y_pred))"
   ]
  },
  {
   "cell_type": "code",
   "execution_count": 704,
   "id": "1e00c33c",
   "metadata": {},
   "outputs": [
    {
     "data": {
      "image/png": "[encoded data removed]",
      "text/plain": [
       "<Figure size 432x288 with 2 Axes>"
      ]
     },
     "metadata": {
      "needs_background": "light"
     },
     "output_type": "display_data"
    }
   ],
   "source": [
    "\n",
    "plot_confusion_matrix(clf, X_test, y_test)\n",
    "plt.show()"
   ]
  },
  {
   "cell_type": "code",
   "execution_count": 705,
   "id": "1973ada4",
   "metadata": {},
   "outputs": [
    {
     "data": {
      "image/png": "[encoded data removed]",
      "text/plain": [
       "<Figure size 432x288 with 1 Axes>"
      ]
     },
     "metadata": {
      "needs_background": "light"
     },
     "output_type": "display_data"
    }
   ],
   "source": [
    "fpr, tpr, _ = metrics.roc_curve(y_test,  y_pred)\n",
    "auc = metrics.roc_auc_score(y_test, y_pred)\n",
    "\n",
    "#create ROC curve\n",
    "plt.plot(fpr,tpr,label=\"AUC=\"+str(auc))\n",
    "plt.ylabel('True Positive Rate')\n",
    "plt.xlabel('False Positive Rate')\n",
    "plt.legend(loc=4)\n",
    "plt.show()"
   ]
  },
  {
   "cell_type": "code",
   "execution_count": 682,
   "id": "61c21d1e",
   "metadata": {},
   "outputs": [
    {
     "name": "stdout",
     "output_type": "stream",
     "text": [
      "With Top 10 Variables the Accuracy is 0.8438 and AUC Value is 0.51269\n"
     ]
    }
   ],
   "source": [
    "print('With Top 10 Variables the Accuracy is 0.8438 and AUC Value is 0.51269')"
   ]
  },
  {
   "cell_type": "code",
   "execution_count": 706,
   "id": "b1ca9167",
   "metadata": {},
   "outputs": [
    {
     "data": {
      "text/html": [
       "<div>\n",
       "<style scoped>\n",
       "    .dataframe tbody tr th:only-of-type {\n",
       "        vertical-align: middle;\n",
       "    }\n",
       "\n",
       "    .dataframe tbody tr th {\n",
       "        vertical-align: top;\n",
       "    }\n",
       "\n",
       "    .dataframe thead th {\n",
       "        text-align: right;\n",
       "    }\n",
       "</style>\n",
       "<table border=\"1\" class=\"dataframe\">\n",
       "  <thead>\n",
       "    <tr style=\"text-align: right;\">\n",
       "      <th></th>\n",
       "      <th>SK_ID_CURR</th>\n",
       "      <th>TARGET</th>\n",
       "      <th>NAME_CONTRACT_TYPE</th>\n",
       "      <th>CODE_GENDER</th>\n",
       "      <th>FLAG_OWN_CAR</th>\n",
       "      <th>FLAG_OWN_REALTY</th>\n",
       "      <th>CNT_CHILDREN</th>\n",
       "      <th>AMT_INCOME_TOTAL</th>\n",
       "      <th>AMT_CREDIT</th>\n",
       "      <th>AMT_ANNUITY</th>\n",
       "      <th>...</th>\n",
       "      <th>FLAG_DOCUMENT_18</th>\n",
       "      <th>FLAG_DOCUMENT_19</th>\n",
       "      <th>FLAG_DOCUMENT_20</th>\n",
       "      <th>FLAG_DOCUMENT_21</th>\n",
       "      <th>AMT_REQ_CREDIT_BUREAU_HOUR</th>\n",
       "      <th>AMT_REQ_CREDIT_BUREAU_DAY</th>\n",
       "      <th>AMT_REQ_CREDIT_BUREAU_WEEK</th>\n",
       "      <th>AMT_REQ_CREDIT_BUREAU_MON</th>\n",
       "      <th>AMT_REQ_CREDIT_BUREAU_QRT</th>\n",
       "      <th>AMT_REQ_CREDIT_BUREAU_YEAR</th>\n",
       "    </tr>\n",
       "  </thead>\n",
       "  <tbody>\n",
       "    <tr>\n",
       "      <th>0</th>\n",
       "      <td>100002</td>\n",
       "      <td>1</td>\n",
       "      <td>Cash loans</td>\n",
       "      <td>M</td>\n",
       "      <td>N</td>\n",
       "      <td>Y</td>\n",
       "      <td>0</td>\n",
       "      <td>202500.0</td>\n",
       "      <td>406597.5</td>\n",
       "      <td>24700.5</td>\n",
       "      <td>...</td>\n",
       "      <td>0</td>\n",
       "      <td>0</td>\n",
       "      <td>0</td>\n",
       "      <td>0</td>\n",
       "      <td>0.0</td>\n",
       "      <td>0.0</td>\n",
       "      <td>0.0</td>\n",
       "      <td>0.0</td>\n",
       "      <td>0.0</td>\n",
       "      <td>1.0</td>\n",
       "    </tr>\n",
       "    <tr>\n",
       "      <th>1</th>\n",
       "      <td>100003</td>\n",
       "      <td>0</td>\n",
       "      <td>Cash loans</td>\n",
       "      <td>F</td>\n",
       "      <td>N</td>\n",
       "      <td>N</td>\n",
       "      <td>0</td>\n",
       "      <td>270000.0</td>\n",
       "      <td>1293502.5</td>\n",
       "      <td>35698.5</td>\n",
       "      <td>...</td>\n",
       "      <td>0</td>\n",
       "      <td>0</td>\n",
       "      <td>0</td>\n",
       "      <td>0</td>\n",
       "      <td>0.0</td>\n",
       "      <td>0.0</td>\n",
       "      <td>0.0</td>\n",
       "      <td>0.0</td>\n",
       "      <td>0.0</td>\n",
       "      <td>0.0</td>\n",
       "    </tr>\n",
       "  </tbody>\n",
       "</table>\n",
       "<p>2 rows × 122 columns</p>\n",
       "</div>"
      ],
      "text/plain": [
       "   SK_ID_CURR  TARGET NAME_CONTRACT_TYPE CODE_GENDER FLAG_OWN_CAR  \\\n",
       "0      100002       1         Cash loans           M            N   \n",
       "1      100003       0         Cash loans           F            N   \n",
       "\n",
       "  FLAG_OWN_REALTY  CNT_CHILDREN  AMT_INCOME_TOTAL  AMT_CREDIT  AMT_ANNUITY  \\\n",
       "0               Y             0          202500.0    406597.5      24700.5   \n",
       "1               N             0          270000.0   1293502.5      35698.5   \n",
       "\n",
       "   ...  FLAG_DOCUMENT_18 FLAG_DOCUMENT_19 FLAG_DOCUMENT_20 FLAG_DOCUMENT_21  \\\n",
       "0  ...                 0                0                0                0   \n",
       "1  ...                 0                0                0                0   \n",
       "\n",
       "  AMT_REQ_CREDIT_BUREAU_HOUR AMT_REQ_CREDIT_BUREAU_DAY  \\\n",
       "0                        0.0                       0.0   \n",
       "1                        0.0                       0.0   \n",
       "\n",
       "   AMT_REQ_CREDIT_BUREAU_WEEK  AMT_REQ_CREDIT_BUREAU_MON  \\\n",
       "0                         0.0                        0.0   \n",
       "1                         0.0                        0.0   \n",
       "\n",
       "   AMT_REQ_CREDIT_BUREAU_QRT  AMT_REQ_CREDIT_BUREAU_YEAR  \n",
       "0                        0.0                         1.0  \n",
       "1                        0.0                         0.0  \n",
       "\n",
       "[2 rows x 122 columns]"
      ]
     },
     "execution_count": 706,
     "metadata": {},
     "output_type": "execute_result"
    }
   ],
   "source": [
    "# 1. Data Imputation Techniques\n",
    "# Replace null value with mean for catagorical we will use the most frequent value\n",
    "\n",
    "df['AMT_ANNUITY'].fillna((df['AMT_ANNUITY'].mean()), inplace=True)\n",
    "df['AMT_GOODS_PRICE'].fillna((df['AMT_GOODS_PRICE'].mean()), inplace=True)\n",
    "df['OWN_CAR_AGE'].fillna((df['OWN_CAR_AGE'].mean()), inplace=True)\n",
    "df['CNT_FAM_MEMBERS'].fillna((df['CNT_FAM_MEMBERS'].mean()), inplace=True)\n",
    "df['EXT_SOURCE_1'].fillna((df['EXT_SOURCE_1'].mean()), inplace=True)\n",
    "df['EXT_SOURCE_2'].fillna((df['EXT_SOURCE_2'].mean()), inplace=True)\n",
    "df['EXT_SOURCE_3'].fillna((df['EXT_SOURCE_3'].mean()), inplace=True)\n",
    "df['APARTMENTS_AVG'].fillna((df['APARTMENTS_AVG'].mean()), inplace=True)\n",
    "df['BASEMENTAREA_AVG'].fillna((df['BASEMENTAREA_AVG'].mean()), inplace=True)\n",
    "df['YEARS_BEGINEXPLUATATION_AVG'].fillna((df['YEARS_BEGINEXPLUATATION_AVG'].mean()), inplace=True)\n",
    "df['YEARS_BUILD_AVG'].fillna((df['YEARS_BUILD_AVG'].mean()), inplace=True)\n",
    "df['COMMONAREA_AVG'].fillna((df['COMMONAREA_AVG'].mean()), inplace=True)\n",
    "df['ELEVATORS_AVG'].fillna((df['ELEVATORS_AVG'].mean()), inplace=True)\n",
    "df['ENTRANCES_AVG'].fillna((df['ENTRANCES_AVG'].mean()), inplace=True)\n",
    "df['FLOORSMAX_AVG'].fillna((df['FLOORSMAX_AVG'].mean()), inplace=True)\n",
    "df['FLOORSMIN_AVG'].fillna((df['FLOORSMIN_AVG'].mean()), inplace=True)\n",
    "df['LANDAREA_AVG'].fillna((df['LANDAREA_AVG'].mean()), inplace=True)\n",
    "df['LIVINGAPARTMENTS_AVG'].fillna((df['LIVINGAPARTMENTS_AVG'].mean()), inplace=True)\n",
    "\n",
    "df['LIVINGAREA_AVG'].fillna((df['LIVINGAREA_AVG'].mean()), inplace=True)\n",
    "df['NONLIVINGAPARTMENTS_AVG'].fillna((df['NONLIVINGAPARTMENTS_AVG'].mean()), inplace=True)\n",
    "df['NONLIVINGAREA_AVG'].fillna((df['NONLIVINGAREA_AVG'].mean()), inplace=True)\n",
    "df['APARTMENTS_MODE'].fillna((df['APARTMENTS_MODE'].mean()), inplace=True)\n",
    "df['BASEMENTAREA_MODE'].fillna((df['BASEMENTAREA_MODE'].mean()), inplace=True)\n",
    "df['YEARS_BEGINEXPLUATATION_MODE'].fillna((df['YEARS_BEGINEXPLUATATION_MODE'].mean()), inplace=True)\n",
    "df['YEARS_BUILD_MODE'].fillna((df['YEARS_BUILD_MODE'].mean()), inplace=True)\n",
    "df['COMMONAREA_MODE'].fillna((df['COMMONAREA_MODE'].mean()), inplace=True)\n",
    "df['ELEVATORS_MODE'].fillna((df['ELEVATORS_MODE'].mean()), inplace=True)\n",
    "df['ENTRANCES_MODE'].fillna((df['ENTRANCES_MODE'].mean()), inplace=True)\n",
    "df['FLOORSMAX_MODE'].fillna((df['FLOORSMAX_MODE'].mean()), inplace=True)\n",
    "df['FLOORSMIN_MODE'].fillna((df['FLOORSMIN_MODE'].mean()), inplace=True)\n",
    "df['LANDAREA_MODE'].fillna((df['LANDAREA_MODE'].mean()), inplace=True)\n",
    "df['LIVINGAPARTMENTS_MODE'].fillna((df['LIVINGAPARTMENTS_MODE'].mean()), inplace=True)\n",
    "df['LIVINGAREA_MODE'].fillna((df['LIVINGAREA_MODE'].mean()), inplace=True)\n",
    "df['APARTMENTS_MEDI'].fillna((df['APARTMENTS_MEDI'].mean()), inplace=True)\n",
    "df['BASEMENTAREA_MEDI'].fillna((df['BASEMENTAREA_MEDI'].mean()), inplace=True)\n",
    "df['YEARS_BEGINEXPLUATATION_MEDI'].fillna((df['YEARS_BEGINEXPLUATATION_MEDI'].mean()), inplace=True)\n",
    "\n",
    "df['YEARS_BUILD_MEDI'].fillna((df['YEARS_BUILD_MEDI'].mean()), inplace=True)\n",
    "df['COMMONAREA_MEDI'].fillna((df['COMMONAREA_MEDI'].mean()), inplace=True)\n",
    "df['ELEVATORS_MEDI'].fillna((df['ELEVATORS_MEDI'].mean()), inplace=True)\n",
    "df['ENTRANCES_MEDI'].fillna((df['ENTRANCES_MEDI'].mean()), inplace=True)\n",
    "df['FLOORSMAX_MEDI'].fillna((df['FLOORSMAX_MEDI'].mean()), inplace=True)\n",
    "df['FLOORSMIN_MEDI'].fillna((df['FLOORSMIN_MEDI'].mean()), inplace=True)\n",
    "df['LANDAREA_MEDI'].fillna((df['LANDAREA_MEDI'].mean()), inplace=True)\n",
    "df['LIVINGAPARTMENTS_MEDI'].fillna((df['LIVINGAPARTMENTS_MEDI'].mean()), inplace=True)\n",
    "df['NONLIVINGAREA_MODE'].fillna((df['NONLIVINGAREA_MODE'].mean()), inplace=True)\n",
    "df['NONLIVINGAPARTMENTS_MEDI'].fillna((df['NONLIVINGAPARTMENTS_MEDI'].mean()), inplace=True)\n",
    "df['NONLIVINGAREA_MEDI'].fillna((df['NONLIVINGAREA_MEDI'].mean()), inplace=True)\n",
    "df['NONLIVINGAPARTMENTS_MODE'].fillna((df['NONLIVINGAPARTMENTS_MODE'].mean()), inplace=True)\n",
    "df['TOTALAREA_MODE'].fillna((df['TOTALAREA_MODE'].mean()), inplace=True)\n",
    "df['TOTALAREA_MODE'].fillna((df['TOTALAREA_MODE'].mean()), inplace=True)\n",
    "df['OBS_30_CNT_SOCIAL_CIRCLE'].fillna((df['OBS_30_CNT_SOCIAL_CIRCLE'].mean()), inplace=True)\n",
    "df['DEF_30_CNT_SOCIAL_CIRCLE'].fillna((df['DEF_30_CNT_SOCIAL_CIRCLE'].mean()), inplace=True)\n",
    "df['OBS_60_CNT_SOCIAL_CIRCLE'].fillna((df['OBS_60_CNT_SOCIAL_CIRCLE'].mean()), inplace=True)\n",
    "df['DEF_60_CNT_SOCIAL_CIRCLE'].fillna((df['DEF_60_CNT_SOCIAL_CIRCLE'].mean()), inplace=True)\n",
    "df['DAYS_LAST_PHONE_CHANGE'].fillna((df['DAYS_LAST_PHONE_CHANGE'].mean()), inplace=True)\n",
    "df['AMT_REQ_CREDIT_BUREAU_HOUR'].fillna((df['AMT_REQ_CREDIT_BUREAU_HOUR'].mean()), inplace=True)\n",
    "\n",
    "df['AMT_REQ_CREDIT_BUREAU_DAY'].fillna((df['AMT_REQ_CREDIT_BUREAU_DAY'].mean()), inplace=True)\n",
    "df['AMT_REQ_CREDIT_BUREAU_WEEK'].fillna((df['AMT_REQ_CREDIT_BUREAU_WEEK'].mean()), inplace=True)\n",
    "df['AMT_REQ_CREDIT_BUREAU_MON'].fillna((df['AMT_REQ_CREDIT_BUREAU_MON'].mean()), inplace=True)\n",
    "df['AMT_REQ_CREDIT_BUREAU_QRT'].fillna((df['AMT_REQ_CREDIT_BUREAU_QRT'].mean()), inplace=True)\n",
    "df['AMT_REQ_CREDIT_BUREAU_YEAR'].fillna((df['AMT_REQ_CREDIT_BUREAU_YEAR'].mean()), inplace=True)\n",
    "\n",
    "df['NAME_TYPE_SUITE'].fillna((df['NAME_TYPE_SUITE'].value_counts().index[0]), inplace=True)\n",
    "df['OCCUPATION_TYPE'].fillna((df['OCCUPATION_TYPE'].value_counts().index[0]), inplace=True)\n",
    "df['FONDKAPREMONT_MODE'].fillna((df['FONDKAPREMONT_MODE'].value_counts().index[0]), inplace=True)\n",
    "df['HOUSETYPE_MODE'].fillna((df['HOUSETYPE_MODE'].value_counts().index[0]), inplace=True)\n",
    "df['WALLSMATERIAL_MODE'].fillna((df['WALLSMATERIAL_MODE'].value_counts().index[0]), inplace=True)\n",
    "df['EMERGENCYSTATE_MODE'].fillna((df['EMERGENCYSTATE_MODE'].value_counts().index[0]), inplace=True)\n",
    "\n",
    "\n",
    "df.reset_index()\n",
    "df.head(2)\n",
    "\n",
    "#XData['AMT_ANNUITY'].fillna((XData['AMT_ANNUITY'].mean()), inplace=True)\n",
    "#XData['AMT_GOODS_PRICE'].fillna((XData['AMT_GOODS_PRICE'].mean()), inplace=True)\n",
    "#XData['DAYS_LAST_PHONE_CHANGE'].fillna((XData['DAYS_LAST_PHONE_CHANGE'].mean()), inplace=True)\n",
    "#XData['CNT_FAM_MEMBERS'].fillna((XData['CNT_FAM_MEMBERS'].mean()), inplace=True)\n",
    "#XData.reset_index()\n",
    "#XData.head()\n"
   ]
  },
  {
   "cell_type": "code",
   "execution_count": 707,
   "id": "a1f75371",
   "metadata": {},
   "outputs": [
    {
     "name": "stdout",
     "output_type": "stream",
     "text": [
      "No. of columns containing null values\n",
      "0\n",
      "Accuracy of Decision tree: 0.8441648025699898\n"
     ]
    }
   ],
   "source": [
    "# Validate Accuracy and performace improvement by measuring AUC and checking confusion matrix\n",
    "\n",
    "XData = df.iloc[:,[7,8, 9, 10, 17, 18, 19, 20, 95, 29]]\n",
    "nan_cols = [i for i in XData.columns if XData[i].isnull().any()]\n",
    "print(\"No. of columns containing null values\")\n",
    "print(len(XData.columns[XData.isna().any()]))\n",
    "X=pd.get_dummies(XData).values.astype(int)\n",
    "X_train, X_test, y_train, y_test = train_test_split(X, Y, test_size=0.33, random_state=0)\n",
    "#X_train, X_test, y_train, y_test=train_test_split(X, Y, test_size=10000, train_size=100000, random_state=0, shuffle=True, stratify=None)\n",
    "clf = DecisionTreeClassifier(random_state = 0)\n",
    "y_train=y_train.reshape(-1,1)\n",
    "clf.fit(X_train,y_train)\n",
    "y_pred=clf.predict(X_test)\n",
    "print(\"Accuracy of Decision tree:\",metrics.accuracy_score(y_test, y_pred))"
   ]
  },
  {
   "cell_type": "code",
   "execution_count": 708,
   "id": "6207bf09",
   "metadata": {},
   "outputs": [
    {
     "data": {
      "image/png": "[encoded data removed]",
      "text/plain": [
       "<Figure size 432x288 with 2 Axes>"
      ]
     },
     "metadata": {
      "needs_background": "light"
     },
     "output_type": "display_data"
    }
   ],
   "source": [
    "from sklearn.metrics import plot_confusion_matrix\n",
    "plot_confusion_matrix(clf, X_test, y_test)\n",
    "plt.show()"
   ]
  },
  {
   "cell_type": "code",
   "execution_count": 709,
   "id": "258d4211",
   "metadata": {},
   "outputs": [
    {
     "data": {
      "image/png": "[encoded data removed]",
      "text/plain": [
       "<Figure size 432x288 with 1 Axes>"
      ]
     },
     "metadata": {
      "needs_background": "light"
     },
     "output_type": "display_data"
    }
   ],
   "source": [
    "fpr, tpr, _ = metrics.roc_curve(y_test,  y_pred)\n",
    "auc = metrics.roc_auc_score(y_test, y_pred)\n",
    "\n",
    "#create ROC curve\n",
    "plt.plot(fpr,tpr,label=\"AUC=\"+str(auc))\n",
    "plt.ylabel('True Positive Rate')\n",
    "plt.xlabel('False Positive Rate')\n",
    "plt.legend(loc=4)\n",
    "plt.show()"
   ]
  },
  {
   "cell_type": "code",
   "execution_count": 687,
   "id": "341e8fa7",
   "metadata": {},
   "outputs": [
    {
     "name": "stdout",
     "output_type": "stream",
     "text": [
      "After replacing null values (data imputatio) the Accuracy is 0.8441 and AUC Value is 0.5154\n"
     ]
    }
   ],
   "source": [
    "print('After replacing null values (data imputatio) the Accuracy is 0.8441 and AUC Value is 0.5154')"
   ]
  },
  {
   "cell_type": "code",
   "execution_count": 710,
   "id": "305710c4",
   "metadata": {},
   "outputs": [
    {
     "data": {
      "text/plain": [
       "<AxesSubplot:xlabel='TARGET', ylabel='CNT_FAM_MEMBERS'>"
      ]
     },
     "execution_count": 710,
     "metadata": {},
     "output_type": "execute_result"
    },
    {
     "data": {
      "image/png": "[encoded data removed]",
      "text/plain": [
       "<Figure size 1080x2160 with 10 Axes>"
      ]
     },
     "metadata": {
      "needs_background": "light"
     },
     "output_type": "display_data"
    }
   ],
   "source": [
    "# 2. Moving to next method of Identifing Outliers by ploting boxplot and capturing values of outliers in data\n",
    "\n",
    "fig, axes = plt.subplots(nrows=10,ncols=1)\n",
    "fig.set_size_inches(15, 30)\n",
    "#plt.ylim(0,5000000);\n",
    "\n",
    "ax=sb.boxplot(data=df,y=\"AMT_INCOME_TOTAL\",x=\"TARGET\",orient=\"v\",ax=axes[0], palette=\"Oranges\")\n",
    "ax.set(ylim=(0, 1000000))\n",
    "sb.boxplot(data=df,y=\"AMT_CREDIT\",x=\"TARGET\",orient=\"v\",ax=axes[1], palette=\"Oranges\")\n",
    "#ax.set(ylim=(0, 1000000))\n",
    "sb.boxplot(data=df,y=\"AMT_ANNUITY\",x=\"TARGET\",orient=\"v\",ax=axes[2], palette=\"Oranges\")\n",
    "sb.boxplot(data=df,y=\"AMT_GOODS_PRICE\",x=\"TARGET\",orient=\"v\",ax=axes[3], palette=\"Oranges\")\n",
    "sb.boxplot(data=df,y=\"DAYS_BIRTH\",x=\"TARGET\",orient=\"v\",ax=axes[4], palette=\"Oranges\")\n",
    "sb.boxplot(data=df,y=\"DAYS_EMPLOYED\",x=\"TARGET\",orient=\"v\",ax=axes[5], palette=\"Oranges\")\n",
    "sb.boxplot(data=df,y=\"DAYS_REGISTRATION\",x=\"TARGET\",orient=\"v\",ax=axes[6], palette=\"Oranges\")\n",
    "sb.boxplot(data=df,y=\"DAYS_ID_PUBLISH\",x=\"TARGET\",orient=\"v\",ax=axes[7], palette=\"Oranges\")\n",
    "sb.boxplot(data=df,y=\"DAYS_LAST_PHONE_CHANGE\",x=\"TARGET\",orient=\"v\",ax=axes[8], palette=\"Oranges\")\n",
    "sb.boxplot(data=df,y=\"CNT_FAM_MEMBERS\",x=\"TARGET\",orient=\"v\",ax=axes[9], palette=\"Oranges\")\n",
    "\n",
    "#outliers \n",
    "#Income > 400K\n",
    "#Credit > 2M\n",
    "#amt annuty > 75K\n",
    "#amtgoodprice > 1.5M\n",
    "#days registration < -10000\n",
    "#days employes < -5000\n",
    "#days phone changed < -3000\n",
    "#fam member > 5\n",
    "\n"
   ]
  },
  {
   "cell_type": "code",
   "execution_count": 711,
   "id": "d1a85a75",
   "metadata": {},
   "outputs": [],
   "source": [
    "# I have perfomed experiments with removing values of each outlier and recalculating AUC value and accuracy.\n",
    "# In most of the cases removing outliers degraded the results hence I have not persued those columns hence you will find them commented below \n",
    "\n",
    "#df=df[df['AMT_INCOME_TOTAL']< 250000]\n",
    "#df=df[df['AMT_CREDIT']< 1000000]\n",
    "#df=df[df['AMT_ANNUITY']< 50000]\n",
    "#df=df[df['AMT_GOODS_PRICE']< 750000]\n",
    "df=df[df['DAYS_REGISTRATION']> -10000]\n",
    "df=df[df['DAYS_EMPLOYED']> -3000]\n",
    "df=df[df['DAYS_LAST_PHONE_CHANGE']> -2000]\n",
    "df=df[df['CNT_FAM_MEMBERS'] <5]\n"
   ]
  },
  {
   "cell_type": "code",
   "execution_count": 712,
   "id": "198a94ed",
   "metadata": {},
   "outputs": [
    {
     "name": "stdout",
     "output_type": "stream",
     "text": [
      "Accuracy of Decision tree: 0.8232555915126974\n"
     ]
    }
   ],
   "source": [
    "XData = df.iloc[:,[7,8, 9, 10, 17, 18, 19, 20, 95, 29]]\n",
    "Y = df.iloc[:,1].values.astype(int)\n",
    "X=pd.get_dummies(XData).values.astype(int)\n",
    "X_train, X_test, y_train, y_test = train_test_split(X, Y, test_size=0.33, random_state=0)\n",
    "#X_train, X_test, y_train, y_test=train_test_split(X, Y, test_size=10000, train_size=100000, random_state=0, shuffle=True, stratify=None)\n",
    "clf = DecisionTreeClassifier(random_state = 0)\n",
    "y_train=y_train.reshape(-1,1)\n",
    "clf.fit(X_train,y_train)\n",
    "y_pred=clf.predict(X_test)\n",
    "print(\"Accuracy of Decision tree:\",metrics.accuracy_score(y_test, y_pred))"
   ]
  },
  {
   "cell_type": "code",
   "execution_count": 713,
   "id": "4daa7593",
   "metadata": {},
   "outputs": [
    {
     "data": {
      "image/png": "[encoded data removed]",
      "text/plain": [
       "<Figure size 432x288 with 1 Axes>"
      ]
     },
     "metadata": {
      "needs_background": "light"
     },
     "output_type": "display_data"
    }
   ],
   "source": [
    "fpr, tpr, _ = metrics.roc_curve(y_test,  y_pred)\n",
    "auc = metrics.roc_auc_score(y_test, y_pred)\n",
    "\n",
    "#create ROC curve\n",
    "plt.plot(fpr,tpr,label=\"AUC=\"+str(auc))\n",
    "plt.ylabel('True Positive Rate')\n",
    "plt.xlabel('False Positive Rate')\n",
    "plt.legend(loc=4)\n",
    "plt.show()"
   ]
  },
  {
   "cell_type": "code",
   "execution_count": 714,
   "id": "576e402f",
   "metadata": {},
   "outputs": [
    {
     "data": {
      "image/png": "[encoded data removed]",
      "text/plain": [
       "<Figure size 432x288 with 2 Axes>"
      ]
     },
     "metadata": {
      "needs_background": "light"
     },
     "output_type": "display_data"
    }
   ],
   "source": [
    "plot_confusion_matrix(clf, X_test, y_test)\n",
    "plt.show()"
   ]
  },
  {
   "cell_type": "code",
   "execution_count": 715,
   "id": "b6b034e0",
   "metadata": {},
   "outputs": [
    {
     "name": "stdout",
     "output_type": "stream",
     "text": [
      "After Removing outliers the Accuracy is descreased from 0.8441 to 0.82325 but the AUC Value is increased to 0.5198 from 0.5154\n"
     ]
    }
   ],
   "source": [
    "print('After Removing outliers the Accuracy is descreased from 0.8441 to 0.82325 but the AUC Value is increased to 0.5198 from 0.5154')"
   ]
  },
  {
   "cell_type": "code",
   "execution_count": 716,
   "id": "f7d2d28a",
   "metadata": {},
   "outputs": [
    {
     "data": {
      "text/html": [
       "<div>\n",
       "<style scoped>\n",
       "    .dataframe tbody tr th:only-of-type {\n",
       "        vertical-align: middle;\n",
       "    }\n",
       "\n",
       "    .dataframe tbody tr th {\n",
       "        vertical-align: top;\n",
       "    }\n",
       "\n",
       "    .dataframe thead th {\n",
       "        text-align: right;\n",
       "    }\n",
       "</style>\n",
       "<table border=\"1\" class=\"dataframe\">\n",
       "  <thead>\n",
       "    <tr style=\"text-align: right;\">\n",
       "      <th></th>\n",
       "      <th>AMT_INCOME_TOTAL</th>\n",
       "      <th>AMT_CREDIT</th>\n",
       "      <th>AMT_ANNUITY</th>\n",
       "      <th>AMT_GOODS_PRICE</th>\n",
       "      <th>DAYS_BIRTH</th>\n",
       "      <th>DAYS_EMPLOYED</th>\n",
       "      <th>DAYS_REGISTRATION</th>\n",
       "      <th>DAYS_ID_PUBLISH</th>\n",
       "      <th>DAYS_LAST_PHONE_CHANGE</th>\n",
       "      <th>CNT_FAM_MEMBERS</th>\n",
       "    </tr>\n",
       "  </thead>\n",
       "  <tbody>\n",
       "    <tr>\n",
       "      <th>0</th>\n",
       "      <td>0.058216</td>\n",
       "      <td>-0.194894</td>\n",
       "      <td>-0.057358</td>\n",
       "      <td>-0.208768</td>\n",
       "      <td>0.588369</td>\n",
       "      <td>-0.222082</td>\n",
       "      <td>0.075412</td>\n",
       "      <td>0.231332</td>\n",
       "      <td>-0.324114</td>\n",
       "      <td>-0.593299</td>\n",
       "    </tr>\n",
       "    <tr>\n",
       "      <th>1</th>\n",
       "      <td>0.108090</td>\n",
       "      <td>0.546057</td>\n",
       "      <td>0.192620</td>\n",
       "      <td>0.509241</td>\n",
       "      <td>-0.093178</td>\n",
       "      <td>-0.145799</td>\n",
       "      <td>0.311863</td>\n",
       "      <td>0.511375</td>\n",
       "      <td>-0.058205</td>\n",
       "      <td>-0.040249</td>\n",
       "    </tr>\n",
       "    <tr>\n",
       "      <th>2</th>\n",
       "      <td>-0.129298</td>\n",
       "      <td>-0.420481</td>\n",
       "      <td>-0.521081</td>\n",
       "      <td>-0.397712</td>\n",
       "      <td>-0.305488</td>\n",
       "      <td>-0.181571</td>\n",
       "      <td>-0.020437</td>\n",
       "      <td>0.087922</td>\n",
       "      <td>-0.065282</td>\n",
       "      <td>-0.487932</td>\n",
       "    </tr>\n",
       "    <tr>\n",
       "      <th>3</th>\n",
       "      <td>0.164613</td>\n",
       "      <td>0.592270</td>\n",
       "      <td>0.266096</td>\n",
       "      <td>0.686690</td>\n",
       "      <td>-0.187092</td>\n",
       "      <td>-0.117780</td>\n",
       "      <td>-0.042573</td>\n",
       "      <td>0.081320</td>\n",
       "      <td>-0.146244</td>\n",
       "      <td>-0.032857</td>\n",
       "    </tr>\n",
       "    <tr>\n",
       "      <th>4</th>\n",
       "      <td>-0.056044</td>\n",
       "      <td>0.340710</td>\n",
       "      <td>0.154605</td>\n",
       "      <td>0.332648</td>\n",
       "      <td>-0.312944</td>\n",
       "      <td>0.612686</td>\n",
       "      <td>-0.356771</td>\n",
       "      <td>-0.125125</td>\n",
       "      <td>0.358211</td>\n",
       "      <td>-0.040545</td>\n",
       "    </tr>\n",
       "    <tr>\n",
       "      <th>...</th>\n",
       "      <td>...</td>\n",
       "      <td>...</td>\n",
       "      <td>...</td>\n",
       "      <td>...</td>\n",
       "      <td>...</td>\n",
       "      <td>...</td>\n",
       "      <td>...</td>\n",
       "      <td>...</td>\n",
       "      <td>...</td>\n",
       "      <td>...</td>\n",
       "    </tr>\n",
       "    <tr>\n",
       "      <th>190081</th>\n",
       "      <td>0.017668</td>\n",
       "      <td>-0.280236</td>\n",
       "      <td>-0.367572</td>\n",
       "      <td>-0.324023</td>\n",
       "      <td>-0.106457</td>\n",
       "      <td>-0.177333</td>\n",
       "      <td>0.284425</td>\n",
       "      <td>0.638224</td>\n",
       "      <td>-0.384258</td>\n",
       "      <td>-0.048931</td>\n",
       "    </tr>\n",
       "    <tr>\n",
       "      <th>190082</th>\n",
       "      <td>-0.049455</td>\n",
       "      <td>-0.235349</td>\n",
       "      <td>-0.082483</td>\n",
       "      <td>-0.213718</td>\n",
       "      <td>-0.524617</td>\n",
       "      <td>0.540650</td>\n",
       "      <td>-0.309322</td>\n",
       "      <td>0.092407</td>\n",
       "      <td>0.316095</td>\n",
       "      <td>-0.343550</td>\n",
       "    </tr>\n",
       "    <tr>\n",
       "      <th>190083</th>\n",
       "      <td>-0.010325</td>\n",
       "      <td>-0.282390</td>\n",
       "      <td>0.026104</td>\n",
       "      <td>-0.280296</td>\n",
       "      <td>0.457019</td>\n",
       "      <td>-0.167695</td>\n",
       "      <td>-0.540922</td>\n",
       "      <td>0.207409</td>\n",
       "      <td>0.255505</td>\n",
       "      <td>-0.450572</td>\n",
       "    </tr>\n",
       "    <tr>\n",
       "      <th>190084</th>\n",
       "      <td>-0.095770</td>\n",
       "      <td>-0.226306</td>\n",
       "      <td>-0.296826</td>\n",
       "      <td>-0.235589</td>\n",
       "      <td>-0.347618</td>\n",
       "      <td>0.595975</td>\n",
       "      <td>-0.029247</td>\n",
       "      <td>-0.233017</td>\n",
       "      <td>0.348441</td>\n",
       "      <td>-0.378705</td>\n",
       "    </tr>\n",
       "    <tr>\n",
       "      <th>190085</th>\n",
       "      <td>-0.012147</td>\n",
       "      <td>0.105227</td>\n",
       "      <td>0.649089</td>\n",
       "      <td>0.181799</td>\n",
       "      <td>-0.135946</td>\n",
       "      <td>-0.200188</td>\n",
       "      <td>-0.149256</td>\n",
       "      <td>0.669220</td>\n",
       "      <td>-0.051730</td>\n",
       "      <td>-0.055206</td>\n",
       "    </tr>\n",
       "  </tbody>\n",
       "</table>\n",
       "<p>190086 rows × 10 columns</p>\n",
       "</div>"
      ],
      "text/plain": [
       "        AMT_INCOME_TOTAL  AMT_CREDIT  AMT_ANNUITY  AMT_GOODS_PRICE  \\\n",
       "0               0.058216   -0.194894    -0.057358        -0.208768   \n",
       "1               0.108090    0.546057     0.192620         0.509241   \n",
       "2              -0.129298   -0.420481    -0.521081        -0.397712   \n",
       "3               0.164613    0.592270     0.266096         0.686690   \n",
       "4              -0.056044    0.340710     0.154605         0.332648   \n",
       "...                  ...         ...          ...              ...   \n",
       "190081          0.017668   -0.280236    -0.367572        -0.324023   \n",
       "190082         -0.049455   -0.235349    -0.082483        -0.213718   \n",
       "190083         -0.010325   -0.282390     0.026104        -0.280296   \n",
       "190084         -0.095770   -0.226306    -0.296826        -0.235589   \n",
       "190085         -0.012147    0.105227     0.649089         0.181799   \n",
       "\n",
       "        DAYS_BIRTH  DAYS_EMPLOYED  DAYS_REGISTRATION  DAYS_ID_PUBLISH  \\\n",
       "0         0.588369      -0.222082           0.075412         0.231332   \n",
       "1        -0.093178      -0.145799           0.311863         0.511375   \n",
       "2        -0.305488      -0.181571          -0.020437         0.087922   \n",
       "3        -0.187092      -0.117780          -0.042573         0.081320   \n",
       "4        -0.312944       0.612686          -0.356771        -0.125125   \n",
       "...            ...            ...                ...              ...   \n",
       "190081   -0.106457      -0.177333           0.284425         0.638224   \n",
       "190082   -0.524617       0.540650          -0.309322         0.092407   \n",
       "190083    0.457019      -0.167695          -0.540922         0.207409   \n",
       "190084   -0.347618       0.595975          -0.029247        -0.233017   \n",
       "190085   -0.135946      -0.200188          -0.149256         0.669220   \n",
       "\n",
       "        DAYS_LAST_PHONE_CHANGE  CNT_FAM_MEMBERS  \n",
       "0                    -0.324114        -0.593299  \n",
       "1                    -0.058205        -0.040249  \n",
       "2                    -0.065282        -0.487932  \n",
       "3                    -0.146244        -0.032857  \n",
       "4                     0.358211        -0.040545  \n",
       "...                        ...              ...  \n",
       "190081               -0.384258        -0.048931  \n",
       "190082                0.316095        -0.343550  \n",
       "190083                0.255505        -0.450572  \n",
       "190084                0.348441        -0.378705  \n",
       "190085               -0.051730        -0.055206  \n",
       "\n",
       "[190086 rows x 10 columns]"
      ]
     },
     "execution_count": 716,
     "metadata": {},
     "output_type": "execute_result"
    }
   ],
   "source": [
    "#3 Applying another method of scaling and normalization on the features\n",
    "\n",
    "standard_scaler = StandardScaler()\n",
    "df_st =  StandardScaler().fit_transform(XData) \n",
    "df_st = normalize(df_st)\n",
    "df_st=pd.DataFrame(df_st, columns=XData.columns)\n",
    "#XData['AMT_INCOME_TOTAL'] = standard_scaler.fit_transform(XData[['AMT_INCOME_TOTAL']])\n",
    "df_st"
   ]
  },
  {
   "cell_type": "code",
   "execution_count": 718,
   "id": "339184f7",
   "metadata": {},
   "outputs": [
    {
     "name": "stdout",
     "output_type": "stream",
     "text": [
      "Accuracy of Decision tree: 0.8256308884248115\n"
     ]
    }
   ],
   "source": [
    "X=df_st.iloc[:,:].values.astype(float)\n",
    "Y = df.iloc[:,1].values.astype(int)\n",
    "X_train, X_test, y_train, y_test = train_test_split(X, Y, test_size=0.33, random_state=0)\n",
    "#X_train, X_test, y_train, y_test=train_test_split(X, Y, test_size=10000, train_size=100000, random_state=0, shuffle=True, stratify=None)\n",
    "clf = DecisionTreeClassifier(random_state = 0)\n",
    "y_train=y_train.reshape(-1,1)\n",
    "clf.fit(X_train,y_train)\n",
    "y_pred=clf.predict(X_test)\n",
    "print(\"Accuracy of Decision tree:\",metrics.accuracy_score(y_test, y_pred))"
   ]
  },
  {
   "cell_type": "code",
   "execution_count": 719,
   "id": "0430a584",
   "metadata": {},
   "outputs": [
    {
     "data": {
      "image/png": "[encoded data removed]",
      "text/plain": [
       "<Figure size 432x288 with 1 Axes>"
      ]
     },
     "metadata": {
      "needs_background": "light"
     },
     "output_type": "display_data"
    }
   ],
   "source": [
    "fpr, tpr, _ = metrics.roc_curve(y_test,  y_pred)\n",
    "auc = metrics.roc_auc_score(y_test, y_pred)\n",
    "\n",
    "#create ROC curve\n",
    "plt.plot(fpr,tpr,label=\"AUC=\"+str(auc))\n",
    "plt.ylabel('True Positive Rate')\n",
    "plt.xlabel('False Positive Rate')\n",
    "plt.legend(loc=4)\n",
    "plt.show()"
   ]
  },
  {
   "cell_type": "code",
   "execution_count": 720,
   "id": "25909696",
   "metadata": {},
   "outputs": [
    {
     "data": {
      "image/png": "[encoded data removed]",
      "text/plain": [
       "<Figure size 432x288 with 2 Axes>"
      ]
     },
     "metadata": {
      "needs_background": "light"
     },
     "output_type": "display_data"
    }
   ],
   "source": [
    "plot_confusion_matrix(clf, X_test, y_test)\n",
    "plt.show()"
   ]
  },
  {
   "cell_type": "code",
   "execution_count": 721,
   "id": "57d74b35",
   "metadata": {},
   "outputs": [
    {
     "name": "stdout",
     "output_type": "stream",
     "text": [
      "After scaling and normalization the Accuracy is increased from 0.82325 to 0.8256 but the AUC Value is descreased from 0.5198 to 0.5190\n"
     ]
    }
   ],
   "source": [
    "print('After scaling and normalization the Accuracy is increased from 0.82325 to 0.8256 but the AUC Value is descreased from 0.5198 to 0.5190')"
   ]
  },
  {
   "cell_type": "code",
   "execution_count": 731,
   "id": "5b1b1a02",
   "metadata": {},
   "outputs": [
    {
     "data": {
      "text/html": [
       "<div>\n",
       "<style scoped>\n",
       "    .dataframe tbody tr th:only-of-type {\n",
       "        vertical-align: middle;\n",
       "    }\n",
       "\n",
       "    .dataframe tbody tr th {\n",
       "        vertical-align: top;\n",
       "    }\n",
       "\n",
       "    .dataframe thead th {\n",
       "        text-align: right;\n",
       "    }\n",
       "</style>\n",
       "<table border=\"1\" class=\"dataframe\">\n",
       "  <thead>\n",
       "    <tr style=\"text-align: right;\">\n",
       "      <th></th>\n",
       "      <th>AMT_INCOME_TOTAL</th>\n",
       "      <th>AMT_CREDIT</th>\n",
       "      <th>AMT_ANNUITY</th>\n",
       "      <th>AMT_GOODS_PRICE</th>\n",
       "      <th>DAYS_BIRTH</th>\n",
       "      <th>DAYS_EMPLOYED</th>\n",
       "      <th>DAYS_REGISTRATION</th>\n",
       "      <th>DAYS_ID_PUBLISH</th>\n",
       "      <th>DAYS_LAST_PHONE_CHANGE</th>\n",
       "      <th>CNT_FAM_MEMBERS</th>\n",
       "    </tr>\n",
       "  </thead>\n",
       "  <tbody>\n",
       "    <tr>\n",
       "      <th>0</th>\n",
       "      <td>12.218495</td>\n",
       "      <td>12.915579</td>\n",
       "      <td>10.114579</td>\n",
       "      <td>12.768542</td>\n",
       "      <td>9.154933</td>\n",
       "      <td>6.456770</td>\n",
       "      <td>8.201934</td>\n",
       "      <td>7.659171</td>\n",
       "      <td>7.033506</td>\n",
       "      <td>0.000000</td>\n",
       "    </tr>\n",
       "    <tr>\n",
       "      <th>1</th>\n",
       "      <td>12.506177</td>\n",
       "      <td>14.072864</td>\n",
       "      <td>10.482864</td>\n",
       "      <td>13.937286</td>\n",
       "      <td>9.727049</td>\n",
       "      <td>7.080026</td>\n",
       "      <td>7.078342</td>\n",
       "      <td>5.673323</td>\n",
       "      <td>6.719013</td>\n",
       "      <td>0.693147</td>\n",
       "    </tr>\n",
       "    <tr>\n",
       "      <th>2</th>\n",
       "      <td>11.119883</td>\n",
       "      <td>11.813030</td>\n",
       "      <td>8.817298</td>\n",
       "      <td>11.813030</td>\n",
       "      <td>9.854612</td>\n",
       "      <td>5.416100</td>\n",
       "      <td>8.357024</td>\n",
       "      <td>7.836370</td>\n",
       "      <td>6.703188</td>\n",
       "      <td>0.000000</td>\n",
       "    </tr>\n",
       "    <tr>\n",
       "      <th>7</th>\n",
       "      <td>12.793859</td>\n",
       "      <td>14.240778</td>\n",
       "      <td>10.647209</td>\n",
       "      <td>14.240778</td>\n",
       "      <td>9.844268</td>\n",
       "      <td>6.107023</td>\n",
       "      <td>8.433159</td>\n",
       "      <td>7.774436</td>\n",
       "      <td>6.975414</td>\n",
       "      <td>0.693147</td>\n",
       "    </tr>\n",
       "    <tr>\n",
       "      <th>8</th>\n",
       "      <td>11.630709</td>\n",
       "      <td>13.834931</td>\n",
       "      <td>10.429000</td>\n",
       "      <td>13.725039</td>\n",
       "      <td>9.908425</td>\n",
       "      <td>12.808318</td>\n",
       "      <td>8.912877</td>\n",
       "      <td>8.164510</td>\n",
       "      <td>-711.533421</td>\n",
       "      <td>0.693147</td>\n",
       "    </tr>\n",
       "    <tr>\n",
       "      <th>...</th>\n",
       "      <td>...</td>\n",
       "      <td>...</td>\n",
       "      <td>...</td>\n",
       "      <td>...</td>\n",
       "      <td>...</td>\n",
       "      <td>...</td>\n",
       "      <td>...</td>\n",
       "      <td>...</td>\n",
       "      <td>...</td>\n",
       "      <td>...</td>\n",
       "    </tr>\n",
       "    <tr>\n",
       "      <th>307497</th>\n",
       "      <td>12.100712</td>\n",
       "      <td>12.506644</td>\n",
       "      <td>9.395034</td>\n",
       "      <td>12.173033</td>\n",
       "      <td>9.721906</td>\n",
       "      <td>7.108244</td>\n",
       "      <td>7.557995</td>\n",
       "      <td>5.402677</td>\n",
       "      <td>7.203406</td>\n",
       "      <td>0.693147</td>\n",
       "    </tr>\n",
       "    <tr>\n",
       "      <th>307505</th>\n",
       "      <td>11.630709</td>\n",
       "      <td>12.323856</td>\n",
       "      <td>10.001068</td>\n",
       "      <td>12.323856</td>\n",
       "      <td>10.101682</td>\n",
       "      <td>12.808318</td>\n",
       "      <td>8.905037</td>\n",
       "      <td>7.765145</td>\n",
       "      <td>-711.533421</td>\n",
       "      <td>0.000000</td>\n",
       "    </tr>\n",
       "    <tr>\n",
       "      <th>307506</th>\n",
       "      <td>11.967181</td>\n",
       "      <td>12.447842</td>\n",
       "      <td>10.224048</td>\n",
       "      <td>12.323856</td>\n",
       "      <td>9.140669</td>\n",
       "      <td>5.463832</td>\n",
       "      <td>9.042632</td>\n",
       "      <td>7.591862</td>\n",
       "      <td>5.609472</td>\n",
       "      <td>0.000000</td>\n",
       "    </tr>\n",
       "    <tr>\n",
       "      <th>307507</th>\n",
       "      <td>11.184421</td>\n",
       "      <td>12.504509</td>\n",
       "      <td>9.392787</td>\n",
       "      <td>12.323856</td>\n",
       "      <td>9.941506</td>\n",
       "      <td>12.808318</td>\n",
       "      <td>8.386629</td>\n",
       "      <td>8.316300</td>\n",
       "      <td>-711.533421</td>\n",
       "      <td>0.000000</td>\n",
       "    </tr>\n",
       "    <tr>\n",
       "      <th>307510</th>\n",
       "      <td>11.967181</td>\n",
       "      <td>13.422468</td>\n",
       "      <td>10.801971</td>\n",
       "      <td>13.422468</td>\n",
       "      <td>9.732462</td>\n",
       "      <td>7.140453</td>\n",
       "      <td>8.542471</td>\n",
       "      <td>6.016157</td>\n",
       "      <td>6.668228</td>\n",
       "      <td>0.693147</td>\n",
       "    </tr>\n",
       "  </tbody>\n",
       "</table>\n",
       "<p>190086 rows × 10 columns</p>\n",
       "</div>"
      ],
      "text/plain": [
       "        AMT_INCOME_TOTAL  AMT_CREDIT  AMT_ANNUITY  AMT_GOODS_PRICE  \\\n",
       "0              12.218495   12.915579    10.114579        12.768542   \n",
       "1              12.506177   14.072864    10.482864        13.937286   \n",
       "2              11.119883   11.813030     8.817298        11.813030   \n",
       "7              12.793859   14.240778    10.647209        14.240778   \n",
       "8              11.630709   13.834931    10.429000        13.725039   \n",
       "...                  ...         ...          ...              ...   \n",
       "307497         12.100712   12.506644     9.395034        12.173033   \n",
       "307505         11.630709   12.323856    10.001068        12.323856   \n",
       "307506         11.967181   12.447842    10.224048        12.323856   \n",
       "307507         11.184421   12.504509     9.392787        12.323856   \n",
       "307510         11.967181   13.422468    10.801971        13.422468   \n",
       "\n",
       "        DAYS_BIRTH  DAYS_EMPLOYED  DAYS_REGISTRATION  DAYS_ID_PUBLISH  \\\n",
       "0         9.154933       6.456770           8.201934         7.659171   \n",
       "1         9.727049       7.080026           7.078342         5.673323   \n",
       "2         9.854612       5.416100           8.357024         7.836370   \n",
       "7         9.844268       6.107023           8.433159         7.774436   \n",
       "8         9.908425      12.808318           8.912877         8.164510   \n",
       "...            ...            ...                ...              ...   \n",
       "307497    9.721906       7.108244           7.557995         5.402677   \n",
       "307505   10.101682      12.808318           8.905037         7.765145   \n",
       "307506    9.140669       5.463832           9.042632         7.591862   \n",
       "307507    9.941506      12.808318           8.386629         8.316300   \n",
       "307510    9.732462       7.140453           8.542471         6.016157   \n",
       "\n",
       "        DAYS_LAST_PHONE_CHANGE  CNT_FAM_MEMBERS  \n",
       "0                     7.033506         0.000000  \n",
       "1                     6.719013         0.693147  \n",
       "2                     6.703188         0.000000  \n",
       "7                     6.975414         0.693147  \n",
       "8                  -711.533421         0.693147  \n",
       "...                        ...              ...  \n",
       "307497                7.203406         0.693147  \n",
       "307505             -711.533421         0.000000  \n",
       "307506                5.609472         0.000000  \n",
       "307507             -711.533421         0.000000  \n",
       "307510                6.668228         0.693147  \n",
       "\n",
       "[190086 rows x 10 columns]"
      ]
     },
     "execution_count": 731,
     "metadata": {},
     "output_type": "execute_result"
    }
   ],
   "source": [
    "# 4. Perfoming log transformation on data. This needs non negetive values hence taking absolute values of the dataframe\n",
    "\n",
    "XData = XData.abs()\n",
    "data_log = np.log(XData)\n",
    "pd.set_option('mode.use_inf_as_na', True)\n",
    "#data_log=data_log.fillna(0)\n",
    "data_log['DAYS_EMPLOYED'].fillna((df['DAYS_EMPLOYED'].mean()), inplace=True)\n",
    "data_log['DAYS_REGISTRATION'].fillna((df['DAYS_REGISTRATION'].mean()), inplace=True)\n",
    "data_log['DAYS_ID_PUBLISH'].fillna((df['DAYS_ID_PUBLISH'].mean()), inplace=True)\n",
    "data_log['DAYS_BIRTH'].fillna((df['DAYS_BIRTH'].mean()), inplace=True)\n",
    "data_log['AMT_INCOME_TOTAL'].fillna((df['AMT_INCOME_TOTAL'].mean()), inplace=True)\n",
    "data_log['AMT_CREDIT'].fillna((df['AMT_CREDIT'].mean()), inplace=True)\n",
    "data_log['AMT_ANNUITY'].fillna((df['AMT_ANNUITY'].mean()), inplace=True)\n",
    "data_log['AMT_GOODS_PRICE'].fillna((df['AMT_GOODS_PRICE'].mean()), inplace=True)\n",
    "data_log['DAYS_LAST_PHONE_CHANGE'].fillna((df['DAYS_LAST_PHONE_CHANGE'].mean()), inplace=True)\n",
    "data_log['CNT_FAM_MEMBERS'].fillna((df['CNT_FAM_MEMBERS'].mean()), inplace=True)\n",
    "data_log"
   ]
  },
  {
   "cell_type": "code",
   "execution_count": 732,
   "id": "90e726bd",
   "metadata": {},
   "outputs": [
    {
     "name": "stdout",
     "output_type": "stream",
     "text": [
      "Accuracy of Decision tree: 0.8230005260724704\n"
     ]
    }
   ],
   "source": [
    "X=data_log.iloc[:,:].values.astype(float)\n",
    "Y = df.iloc[:,1].values.astype(int)\n",
    "X_train, X_test, y_train, y_test = train_test_split(X, Y, test_size=0.33, random_state=0)\n",
    "#X_train, X_test, y_train, y_test=train_test_split(X, Y, test_size=10000, train_size=100000, random_state=0, shuffle=True, stratify=None)\n",
    "clf = DecisionTreeClassifier(random_state = 0)\n",
    "y_train=y_train.reshape(-1,1)\n",
    "clf.fit(X_train,y_train)\n",
    "y_pred=clf.predict(X_test)\n",
    "print(\"Accuracy of Decision tree:\",metrics.accuracy_score(y_test, y_pred))"
   ]
  },
  {
   "cell_type": "code",
   "execution_count": 733,
   "id": "bf6e8e6c",
   "metadata": {},
   "outputs": [
    {
     "data": {
      "image/png": "[encoded data removed]",
      "text/plain": [
       "<Figure size 432x288 with 1 Axes>"
      ]
     },
     "metadata": {
      "needs_background": "light"
     },
     "output_type": "display_data"
    }
   ],
   "source": [
    "fpr, tpr, _ = metrics.roc_curve(y_test,  y_pred)\n",
    "auc = metrics.roc_auc_score(y_test, y_pred)\n",
    "\n",
    "#create ROC curve\n",
    "plt.plot(fpr,tpr,label=\"AUC=\"+str(auc))\n",
    "plt.ylabel('True Positive Rate')\n",
    "plt.xlabel('False Positive Rate')\n",
    "plt.legend(loc=4)\n",
    "plt.show()"
   ]
  },
  {
   "cell_type": "code",
   "execution_count": 734,
   "id": "1003b3f0",
   "metadata": {},
   "outputs": [
    {
     "data": {
      "image/png": "[encoded data removed]",
      "text/plain": [
       "<Figure size 432x288 with 2 Axes>"
      ]
     },
     "metadata": {
      "needs_background": "light"
     },
     "output_type": "display_data"
    }
   ],
   "source": [
    "plot_confusion_matrix(clf, X_test, y_test)\n",
    "plt.show()"
   ]
  },
  {
   "cell_type": "code",
   "execution_count": 735,
   "id": "864e0c53",
   "metadata": {},
   "outputs": [
    {
     "name": "stdout",
     "output_type": "stream",
     "text": [
      "After performing log transformation the Accuracy is descreased from  0.8256 to 0.823 and the AUC Value is descreased from 0.519 to 0.5183\n"
     ]
    }
   ],
   "source": [
    "print('After performing log transformation the Accuracy is descreased from  0.8256 to 0.823 and the AUC Value is descreased from 0.519 to 0.5183')"
   ]
  },
  {
   "cell_type": "code",
   "execution_count": 744,
   "id": "cec82d1b",
   "metadata": {},
   "outputs": [
    {
     "name": "stdout",
     "output_type": "stream",
     "text": [
      "   AMT_INCOME_TOTAL  AMT_CREDIT  AMT_ANNUITY  AMT_GOODS_PRICE  DAYS_BIRTH  \\\n",
      "0         -0.070362   -0.326685    -0.489177        -0.303088    0.390638   \n",
      "1          0.574756    0.319859     0.511813         0.415028   -0.014309   \n",
      "2         -0.066748   -0.254444    -0.373682        -0.225106    0.449303   \n",
      "3          0.360479   -0.003727     0.025613        -0.126327    0.717847   \n",
      "4          0.042132   -0.238419    -0.101841        -0.238069    0.206116   \n",
      "\n",
      "   DAYS_EMPLOYED  DAYS_REGISTRATION  DAYS_ID_PUBLISH  DAYS_LAST_PHONE_CHANGE  \\\n",
      "0      -0.337441           0.367468         0.167224                0.355601   \n",
      "1       0.256141          -0.085982         0.224724                0.092322   \n",
      "2      -0.322161           0.054001         0.601934                0.261647   \n",
      "3      -0.402986           0.156795         0.383611                0.046760   \n",
      "4      -0.266035           0.176845        -0.200026                0.212019   \n",
      "\n",
      "   CNT_FAM_MEMBERS  \n",
      "0        -0.035459  \n",
      "1        -0.030254  \n",
      "2        -0.033637  \n",
      "3        -0.042375  \n",
      "4         0.803018  \n"
     ]
    },
    {
     "name": "stderr",
     "output_type": "stream",
     "text": [
      "C:\\Users\\khann\\anaconda3\\lib\\site-packages\\pandas\\core\\series.py:4463: SettingWithCopyWarning: \n",
      "A value is trying to be set on a copy of a slice from a DataFrame\n",
      "\n",
      "See the caveats in the documentation: https://pandas.pydata.org/pandas-docs/stable/user_guide/indexing.html#returning-a-view-versus-a-copy\n",
      "  return super().fillna(\n"
     ]
    }
   ],
   "source": [
    "# 5. Applying feature selection techniques RFE \n",
    "# Also created a new column AMT_AFTER_CREDIT by substracting values of AMT_INCOME_TOTAL - AMOUNT_ANNUITY.\n",
    "# AMT_AFTER_CREDIT column value helped improved model efficiency\n",
    "\n",
    " \n",
    "df = pd.read_csv(\"C:\\\\Users\\\\khann\\\\Desktop\\\\Python Assignments\\\\home-credit-default-risk\\\\application_train.csv\")\n",
    "\n",
    "#df=df[df['AMT_INCOME_TOTAL']< 400000]\n",
    "#df=df[df['AMT_CREDIT']< 800000]\n",
    "df=df[df['AMT_ANNUITY']< 35000]\n",
    "#df=df[df['AMT_GOODS_PRICE']< 900000]\n",
    "#df=df[df['DAYS_REGISTRATION']> -7000]\n",
    "df=df[df['DAYS_EMPLOYED']> -3000]\n",
    "df=df[df['DAYS_LAST_PHONE_CHANGE'] > -2000]\n",
    "#df=df[df['CNT_FAM_MEMBERS'] <5]\n",
    "df.loc.__setitem__((slice(None), ('AMT_AFTER_CREDIT')), df.iloc[:,7].values.astype(float) - df.iloc[:,9].values.astype(float))\n",
    "df.loc.__setitem__((slice(None), ('AMT_CREDIT_GOOD_PRICE')), df.iloc[:,8].values.astype(float) - df.iloc[:,10].values.astype(float))\n",
    "df.loc.__setitem__((slice(None), ('EMPLOYEE_BIRTH_EMPLOYED')), df.iloc[:,17].values.astype(float) - df.iloc[:,18].values.astype(float))\n",
    "df=df[df['AMT_AFTER_CREDIT']< 50000]\n",
    "\n",
    "#filterinfDataframe = dfObj[(dfObj['Sale'] > 30) & (dfObj['Sale'] < 33) ]\n",
    "#df=df[df['EMPLOYEE_BIRTH_EMPLOYED']< -15000]\n",
    "#df=df[df['AMT_CREDIT_GOOD_PRICE'] > -1]\n",
    "#df=df[(df['DAYS_EMPLOYED']> -1095) & (df['AMT_GOODS_PRICE'] > 200000)]\n",
    "\n",
    "\n",
    "XData = df.iloc[:,[7,8, 9, 10, 17, 18, 19, 20, 95, 29]]\n",
    "Y = df.iloc[:,1].values.astype(int)\n",
    "#XData=XData.fillna(0)\n",
    "XData['AMT_ANNUITY'].fillna((XData['AMT_ANNUITY'].mean()), inplace=True)\n",
    "XData['AMT_GOODS_PRICE'].fillna((XData['AMT_GOODS_PRICE'].mean()), inplace=True)\n",
    "XData['DAYS_LAST_PHONE_CHANGE'].fillna((XData['DAYS_LAST_PHONE_CHANGE'].mean()), inplace=True)\n",
    "XData['CNT_FAM_MEMBERS'].fillna((XData['CNT_FAM_MEMBERS'].mean()), inplace=True)\n",
    "XData.reset_index()\n",
    "\n",
    "standard_scaler = StandardScaler()\n",
    "df_st =  StandardScaler().fit_transform(XData) \n",
    "df_st = normalize(df_st)\n",
    "df_st=pd.DataFrame(df_st, columns=XData.columns)\n",
    "#XData['AMT_INCOME_TOTAL'] = standard_scaler.fit_transform(XData[['AMT_INCOME_TOTAL']])\n",
    "df_st\n",
    "\n",
    "X=df_st.iloc[:,:].values.astype(object)\n",
    "\n",
    "print(df_st.head())\n",
    "#XData['AMT_AFTER_CREDIT'] = XData['AMT_INCOME_TOTAL'] - XData['AMT_ANNUITY']\n"
   ]
  },
  {
   "cell_type": "code",
   "execution_count": 745,
   "id": "6082a16a",
   "metadata": {},
   "outputs": [
    {
     "name": "stderr",
     "output_type": "stream",
     "text": [
      "C:\\Users\\khann\\anaconda3\\lib\\site-packages\\sklearn\\utils\\validation.py:70: FutureWarning: Pass n_features_to_select=5 as keyword args. From version 1.0 (renaming of 0.25) passing these as positional arguments will result in an error\n",
      "  warnings.warn(f\"Pass {args_msg} as keyword args. From version \"\n"
     ]
    },
    {
     "name": "stdout",
     "output_type": "stream",
     "text": [
      "Num Features: 5\n",
      "Selected Features: [False False False  True  True False  True  True  True False]\n",
      "Feature Ranking: [3 5 6 1 1 4 1 1 1 2]\n",
      "Accuracy of Decision tree: 0.8368755175269114\n"
     ]
    },
    {
     "data": {
      "image/png": "[encoded data removed]",
      "text/plain": [
       "<Figure size 432x288 with 1 Axes>"
      ]
     },
     "metadata": {
      "needs_background": "light"
     },
     "output_type": "display_data"
    }
   ],
   "source": [
    "from sklearn.feature_selection import RFE\n",
    "\n",
    "# feature extraction\n",
    "X_train, X_test, y_train, y_test = train_test_split(X, Y, test_size=0.33, random_state=0)\n",
    "#X_train, X_test, y_train, y_test=train_test_split(X, Y, test_size=1000, train_size=9000, random_state=0, shuffle=True, stratify=None)\n",
    "clf = DecisionTreeClassifier(random_state = 0)\n",
    "#y_train=y_train.reshape(-1,1)\n",
    "rfe = RFE(clf, 5)\n",
    "fit = rfe.fit(X_train, y_train)\n",
    "y_predicted=rfe.predict(X_test)\n",
    "print(\"Num Features: %d\" % fit.n_features_)\n",
    "print(\"Selected Features: %s\" % fit.support_)\n",
    "print(\"Feature Ranking: %s\" % fit.ranking_)\n",
    "print(\"Accuracy of Decision tree:\",metrics.accuracy_score(y_test, y_predicted))\n",
    "\n",
    "fpr, tpr, _ = metrics.roc_curve(y_test,  y_predicted)\n",
    "auc = metrics.roc_auc_score(y_test, y_predicted)\n",
    "#create ROC curve\n",
    "plt.plot(fpr,tpr,label=\"AUC=\"+str(auc))\n",
    "plt.ylabel('True Positive Rate')\n",
    "plt.xlabel('False Positive Rate')\n",
    "plt.legend(loc=4)\n",
    "plt.show()"
   ]
  },
  {
   "cell_type": "code",
   "execution_count": 747,
   "id": "2b9b246b",
   "metadata": {},
   "outputs": [
    {
     "data": {
      "image/png": "[encoded data removed]",
      "text/plain": [
       "<Figure size 432x288 with 2 Axes>"
      ]
     },
     "metadata": {
      "needs_background": "light"
     },
     "output_type": "display_data"
    }
   ],
   "source": [
    "plot_confusion_matrix(rfe, X_test, y_test)\n",
    "plt.show()"
   ]
  },
  {
   "cell_type": "code",
   "execution_count": 748,
   "id": "441eb7b4",
   "metadata": {},
   "outputs": [
    {
     "name": "stdout",
     "output_type": "stream",
     "text": [
      "Feature selection Technique helped increasing accuracy to 0.8368 and the AUC Value is increased to 0.5381\n"
     ]
    }
   ],
   "source": [
    "print('Feature selection Technique helped increasing accuracy to 0.8368 and the AUC Value is increased to 0.5381')"
   ]
  },
  {
   "cell_type": "code",
   "execution_count": 749,
   "id": "f05bed2f",
   "metadata": {},
   "outputs": [
    {
     "name": "stdout",
     "output_type": "stream",
     "text": [
      "   AMT_INCOME_TOTAL  AMT_CREDIT  AMT_ANNUITY  AMT_GOODS_PRICE  DAYS_BIRTH  \\\n",
      "0          202500.0    406597.5      24700.5         351000.0       -9461   \n",
      "1          270000.0   1293502.5      35698.5        1129500.0      -16765   \n",
      "2           67500.0    135000.0       6750.0         135000.0      -19046   \n",
      "3          135000.0    312682.5      29686.5         297000.0      -19005   \n",
      "4          121500.0    513000.0      21865.5         513000.0      -19932   \n",
      "\n",
      "   DAYS_EMPLOYED  DAYS_REGISTRATION  DAYS_ID_PUBLISH  DAYS_LAST_PHONE_CHANGE  \\\n",
      "0           -637            -3648.0            -2120                 -1134.0   \n",
      "1          -1188            -1186.0             -291                  -828.0   \n",
      "2           -225            -4260.0            -2531                  -815.0   \n",
      "3          -3039            -9833.0            -2437                  -617.0   \n",
      "4          -3038            -4311.0            -3458                 -1106.0   \n",
      "\n",
      "   CNT_FAM_MEMBERS  \n",
      "0              1.0  \n",
      "1              2.0  \n",
      "2              1.0  \n",
      "3              2.0  \n",
      "4              1.0  \n"
     ]
    }
   ],
   "source": [
    "#The last method i tried is binning but this did not help increasing the perfomance of model\n",
    "\n",
    "df = pd.read_csv(\"C:\\\\Users\\\\khann\\\\Desktop\\\\Python Assignments\\\\home-credit-default-risk\\\\application_train.csv\")\n",
    "\n",
    "df['AMT_ANNUITY'].fillna((df['AMT_ANNUITY'].mean()), inplace=True)\n",
    "df['AMT_GOODS_PRICE'].fillna((df['AMT_GOODS_PRICE'].mean()), inplace=True)\n",
    "df['DAYS_LAST_PHONE_CHANGE'].fillna((df['DAYS_LAST_PHONE_CHANGE'].mean()), inplace=True)\n",
    "df['CNT_FAM_MEMBERS'].fillna((df['CNT_FAM_MEMBERS'].mean()), inplace=True)\n",
    "\n",
    "df=df[df['CNT_FAM_MEMBERS'] <5]\n",
    "\n",
    "dt_df = df.iloc[:,[7,8, 9, 10, 17, 18, 19, 20, 95, 29]]\n",
    "print(dt_df.head(5))"
   ]
  },
  {
   "cell_type": "code",
   "execution_count": 752,
   "id": "dbbd3fd7",
   "metadata": {},
   "outputs": [
    {
     "name": "stderr",
     "output_type": "stream",
     "text": [
      "C:\\Users\\khann\\anaconda3\\lib\\site-packages\\pandas\\core\\indexing.py:1720: SettingWithCopyWarning: \n",
      "A value is trying to be set on a copy of a slice from a DataFrame.\n",
      "Try using .loc[row_indexer,col_indexer] = value instead\n",
      "\n",
      "See the caveats in the documentation: https://pandas.pydata.org/pandas-docs/stable/user_guide/indexing.html#returning-a-view-versus-a-copy\n",
      "  self._setitem_single_column(loc, value, pi)\n",
      "C:\\Users\\khann\\anaconda3\\lib\\site-packages\\pandas\\core\\indexing.py:1720: SettingWithCopyWarning: \n",
      "A value is trying to be set on a copy of a slice from a DataFrame.\n",
      "Try using .loc[row_indexer,col_indexer] = value instead\n",
      "\n",
      "See the caveats in the documentation: https://pandas.pydata.org/pandas-docs/stable/user_guide/indexing.html#returning-a-view-versus-a-copy\n",
      "  self._setitem_single_column(loc, value, pi)\n",
      "C:\\Users\\khann\\anaconda3\\lib\\site-packages\\pandas\\core\\indexing.py:1720: SettingWithCopyWarning: \n",
      "A value is trying to be set on a copy of a slice from a DataFrame.\n",
      "Try using .loc[row_indexer,col_indexer] = value instead\n",
      "\n",
      "See the caveats in the documentation: https://pandas.pydata.org/pandas-docs/stable/user_guide/indexing.html#returning-a-view-versus-a-copy\n",
      "  self._setitem_single_column(loc, value, pi)\n",
      "C:\\Users\\khann\\anaconda3\\lib\\site-packages\\pandas\\core\\indexing.py:1720: SettingWithCopyWarning: \n",
      "A value is trying to be set on a copy of a slice from a DataFrame.\n",
      "Try using .loc[row_indexer,col_indexer] = value instead\n",
      "\n",
      "See the caveats in the documentation: https://pandas.pydata.org/pandas-docs/stable/user_guide/indexing.html#returning-a-view-versus-a-copy\n",
      "  self._setitem_single_column(loc, value, pi)\n",
      "C:\\Users\\khann\\anaconda3\\lib\\site-packages\\pandas\\core\\indexing.py:1720: SettingWithCopyWarning: \n",
      "A value is trying to be set on a copy of a slice from a DataFrame.\n",
      "Try using .loc[row_indexer,col_indexer] = value instead\n",
      "\n",
      "See the caveats in the documentation: https://pandas.pydata.org/pandas-docs/stable/user_guide/indexing.html#returning-a-view-versus-a-copy\n",
      "  self._setitem_single_column(loc, value, pi)\n",
      "C:\\Users\\khann\\anaconda3\\lib\\site-packages\\pandas\\core\\indexing.py:1720: SettingWithCopyWarning: \n",
      "A value is trying to be set on a copy of a slice from a DataFrame.\n",
      "Try using .loc[row_indexer,col_indexer] = value instead\n",
      "\n",
      "See the caveats in the documentation: https://pandas.pydata.org/pandas-docs/stable/user_guide/indexing.html#returning-a-view-versus-a-copy\n",
      "  self._setitem_single_column(loc, value, pi)\n",
      "C:\\Users\\khann\\anaconda3\\lib\\site-packages\\pandas\\core\\indexing.py:1720: SettingWithCopyWarning: \n",
      "A value is trying to be set on a copy of a slice from a DataFrame.\n",
      "Try using .loc[row_indexer,col_indexer] = value instead\n",
      "\n",
      "See the caveats in the documentation: https://pandas.pydata.org/pandas-docs/stable/user_guide/indexing.html#returning-a-view-versus-a-copy\n",
      "  self._setitem_single_column(loc, value, pi)\n",
      "C:\\Users\\khann\\anaconda3\\lib\\site-packages\\pandas\\core\\indexing.py:1720: SettingWithCopyWarning: \n",
      "A value is trying to be set on a copy of a slice from a DataFrame.\n",
      "Try using .loc[row_indexer,col_indexer] = value instead\n",
      "\n",
      "See the caveats in the documentation: https://pandas.pydata.org/pandas-docs/stable/user_guide/indexing.html#returning-a-view-versus-a-copy\n",
      "  self._setitem_single_column(loc, value, pi)\n",
      "C:\\Users\\khann\\anaconda3\\lib\\site-packages\\pandas\\core\\indexing.py:1720: SettingWithCopyWarning: \n",
      "A value is trying to be set on a copy of a slice from a DataFrame.\n",
      "Try using .loc[row_indexer,col_indexer] = value instead\n",
      "\n",
      "See the caveats in the documentation: https://pandas.pydata.org/pandas-docs/stable/user_guide/indexing.html#returning-a-view-versus-a-copy\n",
      "  self._setitem_single_column(loc, value, pi)\n",
      "C:\\Users\\khann\\anaconda3\\lib\\site-packages\\pandas\\core\\indexing.py:1720: SettingWithCopyWarning: \n",
      "A value is trying to be set on a copy of a slice from a DataFrame.\n",
      "Try using .loc[row_indexer,col_indexer] = value instead\n",
      "\n",
      "See the caveats in the documentation: https://pandas.pydata.org/pandas-docs/stable/user_guide/indexing.html#returning-a-view-versus-a-copy\n",
      "  self._setitem_single_column(loc, value, pi)\n",
      "C:\\Users\\khann\\anaconda3\\lib\\site-packages\\pandas\\core\\indexing.py:1720: SettingWithCopyWarning: \n",
      "A value is trying to be set on a copy of a slice from a DataFrame.\n",
      "Try using .loc[row_indexer,col_indexer] = value instead\n",
      "\n",
      "See the caveats in the documentation: https://pandas.pydata.org/pandas-docs/stable/user_guide/indexing.html#returning-a-view-versus-a-copy\n",
      "  self._setitem_single_column(loc, value, pi)\n",
      "C:\\Users\\khann\\anaconda3\\lib\\site-packages\\pandas\\core\\indexing.py:1720: SettingWithCopyWarning: \n",
      "A value is trying to be set on a copy of a slice from a DataFrame.\n",
      "Try using .loc[row_indexer,col_indexer] = value instead\n",
      "\n",
      "See the caveats in the documentation: https://pandas.pydata.org/pandas-docs/stable/user_guide/indexing.html#returning-a-view-versus-a-copy\n",
      "  self._setitem_single_column(loc, value, pi)\n",
      "C:\\Users\\khann\\anaconda3\\lib\\site-packages\\pandas\\core\\indexing.py:1720: SettingWithCopyWarning: \n",
      "A value is trying to be set on a copy of a slice from a DataFrame.\n",
      "Try using .loc[row_indexer,col_indexer] = value instead\n",
      "\n",
      "See the caveats in the documentation: https://pandas.pydata.org/pandas-docs/stable/user_guide/indexing.html#returning-a-view-versus-a-copy\n",
      "  self._setitem_single_column(loc, value, pi)\n",
      "C:\\Users\\khann\\anaconda3\\lib\\site-packages\\pandas\\core\\indexing.py:1720: SettingWithCopyWarning: \n",
      "A value is trying to be set on a copy of a slice from a DataFrame.\n",
      "Try using .loc[row_indexer,col_indexer] = value instead\n",
      "\n",
      "See the caveats in the documentation: https://pandas.pydata.org/pandas-docs/stable/user_guide/indexing.html#returning-a-view-versus-a-copy\n",
      "  self._setitem_single_column(loc, value, pi)\n",
      "C:\\Users\\khann\\anaconda3\\lib\\site-packages\\pandas\\core\\indexing.py:1720: SettingWithCopyWarning: \n",
      "A value is trying to be set on a copy of a slice from a DataFrame.\n",
      "Try using .loc[row_indexer,col_indexer] = value instead\n",
      "\n",
      "See the caveats in the documentation: https://pandas.pydata.org/pandas-docs/stable/user_guide/indexing.html#returning-a-view-versus-a-copy\n",
      "  self._setitem_single_column(loc, value, pi)\n",
      "C:\\Users\\khann\\anaconda3\\lib\\site-packages\\pandas\\core\\indexing.py:1720: SettingWithCopyWarning: \n",
      "A value is trying to be set on a copy of a slice from a DataFrame.\n",
      "Try using .loc[row_indexer,col_indexer] = value instead\n",
      "\n",
      "See the caveats in the documentation: https://pandas.pydata.org/pandas-docs/stable/user_guide/indexing.html#returning-a-view-versus-a-copy\n",
      "  self._setitem_single_column(loc, value, pi)\n",
      "C:\\Users\\khann\\anaconda3\\lib\\site-packages\\pandas\\core\\indexing.py:1720: SettingWithCopyWarning: \n",
      "A value is trying to be set on a copy of a slice from a DataFrame.\n",
      "Try using .loc[row_indexer,col_indexer] = value instead\n",
      "\n",
      "See the caveats in the documentation: https://pandas.pydata.org/pandas-docs/stable/user_guide/indexing.html#returning-a-view-versus-a-copy\n",
      "  self._setitem_single_column(loc, value, pi)\n",
      "C:\\Users\\khann\\anaconda3\\lib\\site-packages\\pandas\\core\\indexing.py:1720: SettingWithCopyWarning: \n",
      "A value is trying to be set on a copy of a slice from a DataFrame.\n",
      "Try using .loc[row_indexer,col_indexer] = value instead\n",
      "\n",
      "See the caveats in the documentation: https://pandas.pydata.org/pandas-docs/stable/user_guide/indexing.html#returning-a-view-versus-a-copy\n",
      "  self._setitem_single_column(loc, value, pi)\n",
      "C:\\Users\\khann\\anaconda3\\lib\\site-packages\\pandas\\core\\indexing.py:1720: SettingWithCopyWarning: \n",
      "A value is trying to be set on a copy of a slice from a DataFrame.\n",
      "Try using .loc[row_indexer,col_indexer] = value instead\n",
      "\n",
      "See the caveats in the documentation: https://pandas.pydata.org/pandas-docs/stable/user_guide/indexing.html#returning-a-view-versus-a-copy\n",
      "  self._setitem_single_column(loc, value, pi)\n",
      "C:\\Users\\khann\\anaconda3\\lib\\site-packages\\pandas\\core\\indexing.py:1720: SettingWithCopyWarning: \n",
      "A value is trying to be set on a copy of a slice from a DataFrame.\n",
      "Try using .loc[row_indexer,col_indexer] = value instead\n",
      "\n",
      "See the caveats in the documentation: https://pandas.pydata.org/pandas-docs/stable/user_guide/indexing.html#returning-a-view-versus-a-copy\n",
      "  self._setitem_single_column(loc, value, pi)\n",
      "C:\\Users\\khann\\anaconda3\\lib\\site-packages\\pandas\\core\\indexing.py:1720: SettingWithCopyWarning: \n",
      "A value is trying to be set on a copy of a slice from a DataFrame.\n",
      "Try using .loc[row_indexer,col_indexer] = value instead\n",
      "\n",
      "See the caveats in the documentation: https://pandas.pydata.org/pandas-docs/stable/user_guide/indexing.html#returning-a-view-versus-a-copy\n",
      "  self._setitem_single_column(loc, value, pi)\n",
      "C:\\Users\\khann\\anaconda3\\lib\\site-packages\\pandas\\core\\indexing.py:1720: SettingWithCopyWarning: \n",
      "A value is trying to be set on a copy of a slice from a DataFrame.\n",
      "Try using .loc[row_indexer,col_indexer] = value instead\n",
      "\n",
      "See the caveats in the documentation: https://pandas.pydata.org/pandas-docs/stable/user_guide/indexing.html#returning-a-view-versus-a-copy\n",
      "  self._setitem_single_column(loc, value, pi)\n",
      "C:\\Users\\khann\\anaconda3\\lib\\site-packages\\pandas\\core\\indexing.py:1720: SettingWithCopyWarning: \n",
      "A value is trying to be set on a copy of a slice from a DataFrame.\n",
      "Try using .loc[row_indexer,col_indexer] = value instead\n",
      "\n",
      "See the caveats in the documentation: https://pandas.pydata.org/pandas-docs/stable/user_guide/indexing.html#returning-a-view-versus-a-copy\n",
      "  self._setitem_single_column(loc, value, pi)\n",
      "C:\\Users\\khann\\anaconda3\\lib\\site-packages\\pandas\\core\\indexing.py:1720: SettingWithCopyWarning: \n",
      "A value is trying to be set on a copy of a slice from a DataFrame.\n",
      "Try using .loc[row_indexer,col_indexer] = value instead\n",
      "\n",
      "See the caveats in the documentation: https://pandas.pydata.org/pandas-docs/stable/user_guide/indexing.html#returning-a-view-versus-a-copy\n",
      "  self._setitem_single_column(loc, value, pi)\n",
      "C:\\Users\\khann\\anaconda3\\lib\\site-packages\\pandas\\core\\indexing.py:1720: SettingWithCopyWarning: \n",
      "A value is trying to be set on a copy of a slice from a DataFrame.\n",
      "Try using .loc[row_indexer,col_indexer] = value instead\n",
      "\n",
      "See the caveats in the documentation: https://pandas.pydata.org/pandas-docs/stable/user_guide/indexing.html#returning-a-view-versus-a-copy\n",
      "  self._setitem_single_column(loc, value, pi)\n",
      "C:\\Users\\khann\\anaconda3\\lib\\site-packages\\pandas\\core\\indexing.py:1720: SettingWithCopyWarning: \n",
      "A value is trying to be set on a copy of a slice from a DataFrame.\n",
      "Try using .loc[row_indexer,col_indexer] = value instead\n",
      "\n",
      "See the caveats in the documentation: https://pandas.pydata.org/pandas-docs/stable/user_guide/indexing.html#returning-a-view-versus-a-copy\n",
      "  self._setitem_single_column(loc, value, pi)\n",
      "C:\\Users\\khann\\anaconda3\\lib\\site-packages\\pandas\\core\\indexing.py:1720: SettingWithCopyWarning: \n",
      "A value is trying to be set on a copy of a slice from a DataFrame.\n",
      "Try using .loc[row_indexer,col_indexer] = value instead\n",
      "\n",
      "See the caveats in the documentation: https://pandas.pydata.org/pandas-docs/stable/user_guide/indexing.html#returning-a-view-versus-a-copy\n",
      "  self._setitem_single_column(loc, value, pi)\n",
      "C:\\Users\\khann\\anaconda3\\lib\\site-packages\\pandas\\core\\indexing.py:1720: SettingWithCopyWarning: \n",
      "A value is trying to be set on a copy of a slice from a DataFrame.\n",
      "Try using .loc[row_indexer,col_indexer] = value instead\n",
      "\n",
      "See the caveats in the documentation: https://pandas.pydata.org/pandas-docs/stable/user_guide/indexing.html#returning-a-view-versus-a-copy\n",
      "  self._setitem_single_column(loc, value, pi)\n",
      "C:\\Users\\khann\\anaconda3\\lib\\site-packages\\pandas\\core\\indexing.py:1720: SettingWithCopyWarning: \n",
      "A value is trying to be set on a copy of a slice from a DataFrame.\n",
      "Try using .loc[row_indexer,col_indexer] = value instead\n",
      "\n",
      "See the caveats in the documentation: https://pandas.pydata.org/pandas-docs/stable/user_guide/indexing.html#returning-a-view-versus-a-copy\n",
      "  self._setitem_single_column(loc, value, pi)\n",
      "C:\\Users\\khann\\anaconda3\\lib\\site-packages\\pandas\\core\\indexing.py:1720: SettingWithCopyWarning: \n",
      "A value is trying to be set on a copy of a slice from a DataFrame.\n",
      "Try using .loc[row_indexer,col_indexer] = value instead\n",
      "\n",
      "See the caveats in the documentation: https://pandas.pydata.org/pandas-docs/stable/user_guide/indexing.html#returning-a-view-versus-a-copy\n",
      "  self._setitem_single_column(loc, value, pi)\n",
      "C:\\Users\\khann\\anaconda3\\lib\\site-packages\\pandas\\core\\indexing.py:1720: SettingWithCopyWarning: \n",
      "A value is trying to be set on a copy of a slice from a DataFrame.\n",
      "Try using .loc[row_indexer,col_indexer] = value instead\n",
      "\n",
      "See the caveats in the documentation: https://pandas.pydata.org/pandas-docs/stable/user_guide/indexing.html#returning-a-view-versus-a-copy\n",
      "  self._setitem_single_column(loc, value, pi)\n",
      "C:\\Users\\khann\\anaconda3\\lib\\site-packages\\pandas\\core\\indexing.py:1720: SettingWithCopyWarning: \n",
      "A value is trying to be set on a copy of a slice from a DataFrame.\n",
      "Try using .loc[row_indexer,col_indexer] = value instead\n",
      "\n",
      "See the caveats in the documentation: https://pandas.pydata.org/pandas-docs/stable/user_guide/indexing.html#returning-a-view-versus-a-copy\n",
      "  self._setitem_single_column(loc, value, pi)\n",
      "C:\\Users\\khann\\anaconda3\\lib\\site-packages\\pandas\\core\\indexing.py:1720: SettingWithCopyWarning: \n",
      "A value is trying to be set on a copy of a slice from a DataFrame.\n",
      "Try using .loc[row_indexer,col_indexer] = value instead\n",
      "\n",
      "See the caveats in the documentation: https://pandas.pydata.org/pandas-docs/stable/user_guide/indexing.html#returning-a-view-versus-a-copy\n",
      "  self._setitem_single_column(loc, value, pi)\n",
      "C:\\Users\\khann\\anaconda3\\lib\\site-packages\\pandas\\core\\indexing.py:1720: SettingWithCopyWarning: \n",
      "A value is trying to be set on a copy of a slice from a DataFrame.\n",
      "Try using .loc[row_indexer,col_indexer] = value instead\n",
      "\n",
      "See the caveats in the documentation: https://pandas.pydata.org/pandas-docs/stable/user_guide/indexing.html#returning-a-view-versus-a-copy\n",
      "  self._setitem_single_column(loc, value, pi)\n",
      "C:\\Users\\khann\\anaconda3\\lib\\site-packages\\pandas\\core\\indexing.py:1720: SettingWithCopyWarning: \n",
      "A value is trying to be set on a copy of a slice from a DataFrame.\n",
      "Try using .loc[row_indexer,col_indexer] = value instead\n",
      "\n",
      "See the caveats in the documentation: https://pandas.pydata.org/pandas-docs/stable/user_guide/indexing.html#returning-a-view-versus-a-copy\n",
      "  self._setitem_single_column(loc, value, pi)\n",
      "C:\\Users\\khann\\anaconda3\\lib\\site-packages\\pandas\\core\\indexing.py:1720: SettingWithCopyWarning: \n",
      "A value is trying to be set on a copy of a slice from a DataFrame.\n",
      "Try using .loc[row_indexer,col_indexer] = value instead\n",
      "\n",
      "See the caveats in the documentation: https://pandas.pydata.org/pandas-docs/stable/user_guide/indexing.html#returning-a-view-versus-a-copy\n",
      "  self._setitem_single_column(loc, value, pi)\n",
      "C:\\Users\\khann\\anaconda3\\lib\\site-packages\\pandas\\core\\indexing.py:1720: SettingWithCopyWarning: \n",
      "A value is trying to be set on a copy of a slice from a DataFrame.\n",
      "Try using .loc[row_indexer,col_indexer] = value instead\n",
      "\n",
      "See the caveats in the documentation: https://pandas.pydata.org/pandas-docs/stable/user_guide/indexing.html#returning-a-view-versus-a-copy\n",
      "  self._setitem_single_column(loc, value, pi)\n",
      "C:\\Users\\khann\\anaconda3\\lib\\site-packages\\pandas\\core\\indexing.py:1720: SettingWithCopyWarning: \n",
      "A value is trying to be set on a copy of a slice from a DataFrame.\n",
      "Try using .loc[row_indexer,col_indexer] = value instead\n",
      "\n",
      "See the caveats in the documentation: https://pandas.pydata.org/pandas-docs/stable/user_guide/indexing.html#returning-a-view-versus-a-copy\n",
      "  self._setitem_single_column(loc, value, pi)\n"
     ]
    },
    {
     "name": "stdout",
     "output_type": "stream",
     "text": [
      "   AMT_INCOME_TOTAL  AMT_CREDIT  AMT_ANNUITY  AMT_GOODS_PRICE  DAYS_BIRTH  \\\n",
      "0          202500.0    406597.5      24700.5         351000.0       -9461   \n",
      "1          270000.0   1293502.5      35698.5        1129500.0      -16765   \n",
      "2           67500.0    135000.0       6750.0         135000.0      -19046   \n",
      "3          135000.0    312682.5      29686.5         297000.0      -19005   \n",
      "4          121500.0    513000.0      21865.5         513000.0      -19932   \n",
      "\n",
      "   DAYS_EMPLOYED  DAYS_REGISTRATION  DAYS_ID_PUBLISH  DAYS_LAST_PHONE_CHANGE  \\\n",
      "0           -637            -3648.0            -2120                 -1134.0   \n",
      "1          -1188            -1186.0             -291                  -828.0   \n",
      "2           -225            -4260.0            -2531                  -815.0   \n",
      "3          -3039            -9833.0            -2437                  -617.0   \n",
      "4          -3038            -4311.0            -3458                 -1106.0   \n",
      "\n",
      "   CNT_FAM_MEMBERS  PHONE_RANGE  IDPUBLISH_RANGE  REGISTRATION_RANGE  \\\n",
      "0              1.0          3.0              1.0                 2.0   \n",
      "1              2.0          2.0              0.0                 0.0   \n",
      "2              1.0          2.0              1.0                 2.0   \n",
      "3              2.0          2.0              1.0                 4.0   \n",
      "4              1.0          3.0              2.0                 2.0   \n",
      "\n",
      "   EMPLOYED_RANGE  GOODS_RANGE  INCOME_RANGE  CREDIT_RANGE  ANNUITY_RANGE  \\\n",
      "0             1.0          2.0           3.0           2.0            2.0   \n",
      "1             2.0          4.0           4.0           4.0            4.0   \n",
      "2             0.0          0.0           0.0           0.0            0.0   \n",
      "3             4.0          2.0           1.0           1.0            3.0   \n",
      "4             4.0          3.0           1.0           2.0            2.0   \n",
      "\n",
      "   BIRTH_RANGE  \n",
      "0          0.0  \n",
      "1          2.0  \n",
      "2          3.0  \n",
      "3          3.0  \n",
      "4          3.0  \n"
     ]
    },
    {
     "name": "stderr",
     "output_type": "stream",
     "text": [
      "C:\\Users\\khann\\anaconda3\\lib\\site-packages\\pandas\\core\\indexing.py:1720: SettingWithCopyWarning: \n",
      "A value is trying to be set on a copy of a slice from a DataFrame.\n",
      "Try using .loc[row_indexer,col_indexer] = value instead\n",
      "\n",
      "See the caveats in the documentation: https://pandas.pydata.org/pandas-docs/stable/user_guide/indexing.html#returning-a-view-versus-a-copy\n",
      "  self._setitem_single_column(loc, value, pi)\n",
      "C:\\Users\\khann\\anaconda3\\lib\\site-packages\\pandas\\core\\indexing.py:1720: SettingWithCopyWarning: \n",
      "A value is trying to be set on a copy of a slice from a DataFrame.\n",
      "Try using .loc[row_indexer,col_indexer] = value instead\n",
      "\n",
      "See the caveats in the documentation: https://pandas.pydata.org/pandas-docs/stable/user_guide/indexing.html#returning-a-view-versus-a-copy\n",
      "  self._setitem_single_column(loc, value, pi)\n",
      "C:\\Users\\khann\\anaconda3\\lib\\site-packages\\pandas\\core\\indexing.py:1720: SettingWithCopyWarning: \n",
      "A value is trying to be set on a copy of a slice from a DataFrame.\n",
      "Try using .loc[row_indexer,col_indexer] = value instead\n",
      "\n",
      "See the caveats in the documentation: https://pandas.pydata.org/pandas-docs/stable/user_guide/indexing.html#returning-a-view-versus-a-copy\n",
      "  self._setitem_single_column(loc, value, pi)\n",
      "C:\\Users\\khann\\anaconda3\\lib\\site-packages\\pandas\\core\\indexing.py:1720: SettingWithCopyWarning: \n",
      "A value is trying to be set on a copy of a slice from a DataFrame.\n",
      "Try using .loc[row_indexer,col_indexer] = value instead\n",
      "\n",
      "See the caveats in the documentation: https://pandas.pydata.org/pandas-docs/stable/user_guide/indexing.html#returning-a-view-versus-a-copy\n",
      "  self._setitem_single_column(loc, value, pi)\n",
      "C:\\Users\\khann\\anaconda3\\lib\\site-packages\\pandas\\core\\indexing.py:1720: SettingWithCopyWarning: \n",
      "A value is trying to be set on a copy of a slice from a DataFrame.\n",
      "Try using .loc[row_indexer,col_indexer] = value instead\n",
      "\n",
      "See the caveats in the documentation: https://pandas.pydata.org/pandas-docs/stable/user_guide/indexing.html#returning-a-view-versus-a-copy\n",
      "  self._setitem_single_column(loc, value, pi)\n",
      "C:\\Users\\khann\\anaconda3\\lib\\site-packages\\pandas\\core\\indexing.py:1720: SettingWithCopyWarning: \n",
      "A value is trying to be set on a copy of a slice from a DataFrame.\n",
      "Try using .loc[row_indexer,col_indexer] = value instead\n",
      "\n",
      "See the caveats in the documentation: https://pandas.pydata.org/pandas-docs/stable/user_guide/indexing.html#returning-a-view-versus-a-copy\n",
      "  self._setitem_single_column(loc, value, pi)\n",
      "C:\\Users\\khann\\anaconda3\\lib\\site-packages\\pandas\\core\\indexing.py:1720: SettingWithCopyWarning: \n",
      "A value is trying to be set on a copy of a slice from a DataFrame.\n",
      "Try using .loc[row_indexer,col_indexer] = value instead\n",
      "\n",
      "See the caveats in the documentation: https://pandas.pydata.org/pandas-docs/stable/user_guide/indexing.html#returning-a-view-versus-a-copy\n",
      "  self._setitem_single_column(loc, value, pi)\n"
     ]
    }
   ],
   "source": [
    "\n",
    "dt_df.loc[(dt_df.DAYS_LAST_PHONE_CHANGE >=-197),('PHONE_RANGE')]=0\n",
    "dt_df.loc[(dt_df.DAYS_LAST_PHONE_CHANGE <-197),('PHONE_RANGE')]=1\n",
    "dt_df.loc[(dt_df.DAYS_LAST_PHONE_CHANGE <-552),('PHONE_RANGE')]=2\n",
    "dt_df.loc[(dt_df.DAYS_LAST_PHONE_CHANGE <-1098),('PHONE_RANGE')]=3\n",
    "dt_df.loc[(dt_df.DAYS_LAST_PHONE_CHANGE <-1500),('PHONE_RANGE')]=4\n",
    "\n",
    "dt_df.loc[(dt_df.DAYS_ID_PUBLISH >=-1362),('IDPUBLISH_RANGE')]=0\n",
    "dt_df.loc[(dt_df.DAYS_ID_PUBLISH <-1362),('IDPUBLISH_RANGE')]=1\n",
    "dt_df.loc[(dt_df.DAYS_ID_PUBLISH <-2602),('IDPUBLISH_RANGE')]=2\n",
    "dt_df.loc[(dt_df.DAYS_ID_PUBLISH <-3977),('IDPUBLISH_RANGE')]=3\n",
    "dt_df.loc[(dt_df.DAYS_ID_PUBLISH <-5400),('IDPUBLISH_RANGE')]=4\n",
    "\n",
    "dt_df.loc[(dt_df.DAYS_REGISTRATION >=-1242),('REGISTRATION_RANGE')]=0\n",
    "dt_df.loc[(dt_df.DAYS_REGISTRATION <-1242),('REGISTRATION_RANGE')]=1\n",
    "dt_df.loc[(dt_df.DAYS_REGISTRATION <-3019),('REGISTRATION_RANGE')]=2\n",
    "dt_df.loc[(dt_df.DAYS_REGISTRATION <-4691),('REGISTRATION_RANGE')]=3\n",
    "dt_df.loc[(dt_df.DAYS_REGISTRATION <-6400),('REGISTRATION_RANGE')]=4\n",
    "\n",
    "dt_df.loc[(dt_df.DAYS_EMPLOYED >=-532),('EMPLOYED_RANGE')]=0\n",
    "dt_df.loc[(dt_df.DAYS_EMPLOYED <-532),('EMPLOYED_RANGE')]=1\n",
    "dt_df.loc[(dt_df.DAYS_EMPLOYED <-1052),('EMPLOYED_RANGE')]=2\n",
    "dt_df.loc[(dt_df.DAYS_EMPLOYED <-1745),('EMPLOYED_RANGE')]=3\n",
    "dt_df.loc[(dt_df.DAYS_EMPLOYED <-2400),('EMPLOYED_RANGE')]=4\n",
    "\n",
    "dt_df.loc[(dt_df.AMT_GOODS_PRICE <=225000),('GOODS_RANGE')]=0\n",
    "dt_df.loc[(dt_df.AMT_GOODS_PRICE >225000),('GOODS_RANGE')]=1\n",
    "dt_df.loc[(dt_df.AMT_GOODS_PRICE >270000),('GOODS_RANGE')]=2\n",
    "dt_df.loc[(dt_df.AMT_GOODS_PRICE >450000),('GOODS_RANGE')]=3\n",
    "dt_df.loc[(dt_df.AMT_GOODS_PRICE >600000),('GOODS_RANGE')]=4\n",
    "\n",
    "dt_df.loc[(dt_df.AMT_INCOME_TOTAL <=90000),('INCOME_RANGE')]=0\n",
    "dt_df.loc[(dt_df.AMT_INCOME_TOTAL >90000),('INCOME_RANGE')]=1\n",
    "dt_df.loc[(dt_df.AMT_INCOME_TOTAL >135000),('INCOME_RANGE')]=2\n",
    "dt_df.loc[(dt_df.AMT_INCOME_TOTAL >180000),('INCOME_RANGE')]=3\n",
    "dt_df.loc[(dt_df.AMT_INCOME_TOTAL >250000),('INCOME_RANGE')]=4\n",
    "\n",
    "dt_df.loc[(dt_df.AMT_CREDIT <=225000),('CREDIT_RANGE')]=0\n",
    "dt_df.loc[(dt_df.AMT_CREDIT >225000),('CREDIT_RANGE')]=1\n",
    "dt_df.loc[(dt_df.AMT_CREDIT >315000),('CREDIT_RANGE')]=2\n",
    "dt_df.loc[(dt_df.AMT_CREDIT >521280),('CREDIT_RANGE')]=3\n",
    "dt_df.loc[(dt_df.AMT_CREDIT >700000),('CREDIT_RANGE')]=4\n",
    "\n",
    "dt_df.loc[(dt_df.AMT_ANNUITY <=13500),('ANNUITY_RANGE')]=0\n",
    "dt_df.loc[(dt_df.AMT_ANNUITY >13500),('ANNUITY_RANGE')]=1\n",
    "dt_df.loc[(dt_df.AMT_ANNUITY >19228),('ANNUITY_RANGE')]=2\n",
    "dt_df.loc[(dt_df.AMT_ANNUITY >25200),('ANNUITY_RANGE')]=3\n",
    "dt_df.loc[(dt_df.AMT_ANNUITY >30000),('ANNUITY_RANGE')]=4\n",
    "\n",
    "dt_df.loc[(dt_df.DAYS_BIRTH >=-10921),('BIRTH_RANGE')]=0\n",
    "dt_df.loc[(dt_df.DAYS_BIRTH <-10921),('BIRTH_RANGE')]=1\n",
    "dt_df.loc[(dt_df.DAYS_BIRTH <-13803),('BIRTH_RANGE')]=2\n",
    "dt_df.loc[(dt_df.DAYS_BIRTH <-18828),('BIRTH_RANGE')]=3\n",
    "dt_df.loc[(dt_df.DAYS_BIRTH <-22000),('BIRTH_RANGE')]=4\n",
    "print(dt_df.head(5))\n"
   ]
  },
  {
   "cell_type": "code",
   "execution_count": 753,
   "id": "026ddc0a",
   "metadata": {},
   "outputs": [
    {
     "name": "stdout",
     "output_type": "stream",
     "text": [
      "(303504, 10)\n",
      "   CNT_FAM_MEMBERS  PHONE_RANGE  IDPUBLISH_RANGE  REGISTRATION_RANGE  \\\n",
      "0              1.0          3.0              1.0                 2.0   \n",
      "1              2.0          2.0              0.0                 0.0   \n",
      "2              1.0          2.0              1.0                 2.0   \n",
      "3              2.0          2.0              1.0                 4.0   \n",
      "4              1.0          3.0              2.0                 2.0   \n",
      "\n",
      "   EMPLOYED_RANGE  GOODS_RANGE  INCOME_RANGE  CREDIT_RANGE  ANNUITY_RANGE  \\\n",
      "0             1.0          2.0           3.0           2.0            2.0   \n",
      "1             2.0          4.0           4.0           4.0            4.0   \n",
      "2             0.0          0.0           0.0           0.0            0.0   \n",
      "3             4.0          2.0           1.0           1.0            3.0   \n",
      "4             4.0          3.0           1.0           2.0            2.0   \n",
      "\n",
      "   BIRTH_RANGE  \n",
      "0          0.0  \n",
      "1          2.0  \n",
      "2          3.0  \n",
      "3          3.0  \n",
      "4          3.0  \n"
     ]
    }
   ],
   "source": [
    "df_new = dt_df.iloc[:,[9,10,11,12,13,14,15,16,17,18]]\n",
    "print(df_new.shape)\n",
    "print(df_new.head(5))\n",
    "nan_cols = [i for i in df_new.columns if df_new[i].isnull().any()]"
   ]
  },
  {
   "cell_type": "code",
   "execution_count": 757,
   "id": "b784147b",
   "metadata": {},
   "outputs": [
    {
     "name": "stderr",
     "output_type": "stream",
     "text": [
      "C:\\Users\\khann\\anaconda3\\lib\\site-packages\\sklearn\\utils\\validation.py:70: FutureWarning: Pass n_features_to_select=5 as keyword args. From version 1.0 (renaming of 0.25) passing these as positional arguments will result in an error\n",
      "  warnings.warn(f\"Pass {args_msg} as keyword args. From version \"\n"
     ]
    },
    {
     "name": "stdout",
     "output_type": "stream",
     "text": [
      "Num Features: 5\n",
      "Selected Features: [False  True False  True False False  True  True  True False]\n",
      "Feature Ranking: [2 1 4 1 3 6 1 1 1 5]\n",
      "Accuracy of Decision tree: 0.8757251115748276\n"
     ]
    },
    {
     "data": {
      "image/png": "[encoded data removed]",
      "text/plain": [
       "<Figure size 432x288 with 1 Axes>"
      ]
     },
     "metadata": {
      "needs_background": "light"
     },
     "output_type": "display_data"
    }
   ],
   "source": [
    "XData = df_new.iloc[:,:]\n",
    "\n",
    "standard_scaler = StandardScaler()\n",
    "df_st =  StandardScaler().fit_transform(XData) \n",
    "df_st = normalize(df_st)\n",
    "df_st=pd.DataFrame(df_st, columns=XData.columns)\n",
    "\n",
    "Y = df.iloc[:,1].values.astype(int)\n",
    "X=df_st.iloc[:,:].values.astype(float)\n",
    "\n",
    "X_train, X_test, y_train, y_test = train_test_split(X, Y, test_size=0.33, random_state=0)\n",
    "#X_train, X_test, y_train, y_test=train_test_split(X, Y, test_size=5000, train_size=50000, random_state=0, shuffle=True, stratify=None)\n",
    "clf = DecisionTreeClassifier(random_state = 0)\n",
    "\n",
    "rfe = RFE(clf, 5)\n",
    "fit = rfe.fit(X_train, y_train)\n",
    "y_predicted=rfe.predict(X_test)\n",
    "print(\"Num Features: %d\" % fit.n_features_)\n",
    "print(\"Selected Features: %s\" % fit.support_)\n",
    "print(\"Feature Ranking: %s\" % fit.ranking_)\n",
    "print(\"Accuracy of Decision tree:\",metrics.accuracy_score(y_test, y_predicted))\n",
    "\n",
    "fpr, tpr, _ = metrics.roc_curve(y_test,  y_predicted)\n",
    "auc = metrics.roc_auc_score(y_test, y_predicted)\n",
    "#create ROC curve\n",
    "plt.plot(fpr,tpr,label=\"AUC=\"+str(auc))\n",
    "plt.ylabel('True Positive Rate')\n",
    "plt.xlabel('False Positive Rate')\n",
    "plt.legend(loc=4)\n",
    "plt.show()\n"
   ]
  },
  {
   "cell_type": "code",
   "execution_count": 758,
   "id": "d899be40",
   "metadata": {},
   "outputs": [
    {
     "data": {
      "image/png": "[encoded data removed]",
      "text/plain": [
       "<Figure size 432x288 with 2 Axes>"
      ]
     },
     "metadata": {
      "needs_background": "light"
     },
     "output_type": "display_data"
    }
   ],
   "source": [
    "from sklearn.metrics import plot_confusion_matrix\n",
    "plot_confusion_matrix(rfe, X_test, y_test)\n",
    "plt.show()"
   ]
  },
  {
   "cell_type": "code",
   "execution_count": 761,
   "id": "e30a9a83",
   "metadata": {},
   "outputs": [
    {
     "name": "stdout",
     "output_type": "stream",
     "text": [
      "Binning did not help improving accuracy, the best result I got was accuracy to 0.8368 and the AUC Value of 0.5381 after Feature selection along with imputation, oulier filtering, generating new column by corelating features\n"
     ]
    }
   ],
   "source": [
    "print('Binning did not help improving accuracy, the best result I got was accuracy to 0.8368 and the AUC Value of 0.5381 after Feature selection along with imputation, oulier filtering, generating new column by corelating features')"
   ]
  },
  {
   "cell_type": "code",
   "execution_count": null,
   "id": "048dfabd",
   "metadata": {},
   "outputs": [],
   "source": []
  }
 ],
 "metadata": {
  "kernelspec": {
   "display_name": "Python 3",
   "language": "python",
   "name": "python3"
  },
  "language_info": {
   "codemirror_mode": {
    "name": "ipython",
    "version": 3
   },
   "file_extension": ".py",
   "mimetype": "text/x-python",
   "name": "python",
   "nbconvert_exporter": "python",
   "pygments_lexer": "ipython3",
   "version": "3.8.8"
  }
 },
 "nbformat": 4,
 "nbformat_minor": 5
}
